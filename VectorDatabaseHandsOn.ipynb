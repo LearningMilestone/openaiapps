{
 "cells": [
  {
   "cell_type": "markdown",
   "id": "5ee2d6f7-74b4-4634-93ef-de43c85f06ff",
   "metadata": {},
   "source": [
    "<h1><center>Vector Database Operations with Chroma</center></h1>\n",
    "<h2><center>Vector Database Explained</center></h2>\n",
    "<h3><center>Build AI Apps - Beginner Level</center></h3>"
   ]
  },
  {
   "cell_type": "markdown",
   "id": "1f4aa4c6-d068-41f8-9c4c-d1d68b09b39c",
   "metadata": {},
   "source": [
    "## Before you start\n",
    "\n",
    "In order to complete the project you will need to create a developer account with OpenAI and store your API key as an environment variable. Instructions for these steps are outlined below.\n",
    "\n",
    "### Create a developer account with OpenAI\n",
    "\n",
    "1. Go to the [API signup page](https://platform.openai.com/signup). \n",
    "\n",
    "2. Create your account (you'll need to provide your email address and your phone number).\n",
    "\n",
    "3. Go to the [API keys page](https://platform.openai.com/account/api-keys). \n",
    "\n",
    "4. Create a new secret key.\n",
    "\n",
    "\n",
    "5. **Take a copy of it**. (If you lose it, delete the key and create a new one.)"
   ]
  },
  {
   "cell_type": "markdown",
   "id": "8a2df415-d22d-466e-9d96-12698c267997",
   "metadata": {},
   "source": [
    "### Add a payment method\n",
    "\n",
    "OpenAI sometimes provides free credits for the API, but this can vary based on geography. You may need to add debit/credit card details. \n",
    "\n",
    "**Using the `text-embedding-3-small` model in this project should incur a cost less than 1 US cent (but if you rerun tasks, you will be charged every time).** For more information on pricing, see [OpenAI's pricing page](https://openai.com/pricing).\n",
    "\n",
    "1. Go to the [Payment Methods page](https://platform.openai.com/account/billing/payment-methods).\n",
    "\n",
    "2. Click Add payment method.\n",
    "\n",
    "3. Fill in your card details."
   ]
  },
  {
   "cell_type": "markdown",
   "id": "cb423d95-5cd7-4632-a79c-728821d7393b",
   "metadata": {},
   "source": [
    "### Install open ai library"
   ]
  },
  {
   "cell_type": "code",
   "execution_count": 57,
   "id": "ab70fec0-93f4-4d5b-b1d2-21b99ddab27c",
   "metadata": {},
   "outputs": [],
   "source": [
    "# !pip install openai"
   ]
  },
  {
   "cell_type": "markdown",
   "id": "152fe86f-3844-4fe0-b6be-c681e47ec660",
   "metadata": {},
   "source": [
    "### Load Open AI Key"
   ]
  },
  {
   "cell_type": "code",
   "execution_count": 58,
   "id": "53a81d10-ae21-46cb-9cfb-bda2e82afa9b",
   "metadata": {},
   "outputs": [],
   "source": [
    "import os\n",
    "from dotenv import load_dotenv, find_dotenv\n",
    "_ = load_dotenv(find_dotenv()) # read local .env file\n",
    "\n",
    "OPEN_API_KEY=os.getenv('OPENAI_API_KEY')"
   ]
  },
  {
   "cell_type": "markdown",
   "id": "c904f8ec-b8bc-420d-8fff-5890982e4274",
   "metadata": {},
   "source": [
    "### Create Client"
   ]
  },
  {
   "cell_type": "code",
   "execution_count": 59,
   "id": "cf379b27-a5f3-4748-9ae5-a67f128eb963",
   "metadata": {},
   "outputs": [],
   "source": [
    "from openai import OpenAI\n",
    "\n",
    "# Define Model\n",
    "model=\"gpt-4o-mini\"\n",
    "emb_model=\"text-embedding-3-small\"\n",
    "\n",
    "#define client\n",
    "# client = OpenAI(api_key=OPEN_API_KEY)"
   ]
  },
  {
   "cell_type": "markdown",
   "id": "bbe2be04-e10a-4bc3-bfe5-ec30fdc5ac1b",
   "metadata": {},
   "source": [
    "## Getting Started with Vector Database - Chroma DB Example with Netflix dataset"
   ]
  },
  {
   "cell_type": "code",
   "execution_count": 60,
   "id": "e629dce8-95a3-4aa7-9bbf-ca23ad5ab183",
   "metadata": {},
   "outputs": [],
   "source": [
    "# !pip install chromadb"
   ]
  },
  {
   "cell_type": "code",
   "execution_count": 61,
   "id": "c5ffbb50-5f40-4c03-9e21-78fa2e0bc4ad",
   "metadata": {},
   "outputs": [],
   "source": [
    "# import libraries\n",
    "import chromadb\n",
    "from chromadb.utils.embedding_functions import OpenAIEmbeddingFunction"
   ]
  },
  {
   "cell_type": "code",
   "execution_count": 62,
   "id": "cd411ded-54d3-4b06-842e-11b8d4056a74",
   "metadata": {},
   "outputs": [],
   "source": [
    "# Create a persistant client- along with path of saving db files\n",
    "client = chromadb.PersistentClient(\"vectordb_files\")"
   ]
  },
  {
   "cell_type": "markdown",
   "id": "06b1974f-c274-44d0-b2d1-6660a7a5ee40",
   "metadata": {},
   "source": [
    "## Collections - Sample"
   ]
  },
  {
   "cell_type": "code",
   "execution_count": 63,
   "id": "a84cefdb-fb1e-4f8c-9fad-ddea29ead3cc",
   "metadata": {},
   "outputs": [],
   "source": [
    "# test_collection = client.create_collection(\n",
    "#     name=\"test_titles\",\n",
    "#     embedding_function=OpenAIEmbeddingFunction(\n",
    "#         model_name=\"text-embedding-3-small\",\n",
    "#         api_key=OPEN_API_KEY\n",
    "#     ),\n",
    "#     get_or_create=True\n",
    "# )"
   ]
  },
  {
   "cell_type": "code",
   "execution_count": 64,
   "id": "af808447-0d2e-4519-81d9-34963806d550",
   "metadata": {},
   "outputs": [],
   "source": [
    "test_collection = client.get_or_create_collection(\n",
    "    name=\"test_titles\",\n",
    "    embedding_function=OpenAIEmbeddingFunction(\n",
    "        model_name=\"text-embedding-3-small\",\n",
    "        api_key=OPEN_API_KEY\n",
    "    )\n",
    ")"
   ]
  },
  {
   "cell_type": "code",
   "execution_count": 65,
   "id": "ea710c23-4b9b-4fb5-a8b3-e9b25be6c2e9",
   "metadata": {},
   "outputs": [
    {
     "data": {
      "text/plain": [
       "[Collection(name=test_titles1),\n",
       " Collection(name=netflix_titles),\n",
       " Collection(name=test_titles)]"
      ]
     },
     "execution_count": 65,
     "metadata": {},
     "output_type": "execute_result"
    }
   ],
   "source": [
    "client.list_collections()"
   ]
  },
  {
   "cell_type": "code",
   "execution_count": 66,
   "id": "8bcc3dd7-5697-494d-be6f-74e25c65ca1e",
   "metadata": {},
   "outputs": [
    {
     "name": "stderr",
     "output_type": "stream",
     "text": [
      "Insert of existing embedding ID: my_doc\n",
      "Add of existing embedding ID: my_doc\n",
      "Insert of existing embedding ID: my-doc-1\n",
      "Insert of existing embedding ID: my-doc-2\n",
      "Add of existing embedding ID: my-doc-1\n",
      "Add of existing embedding ID: my-doc-2\n"
     ]
    }
   ],
   "source": [
    "test_collection.add(\n",
    "    ids=[\"my_doc\"],\n",
    "    documents=[\"This is the source text\"]\n",
    ")\n",
    "\n",
    "# Add multiple documents\n",
    "test_collection.add(\n",
    "    ids=[\"my-doc-1\", \"my-doc-2\"],\n",
    "    documents=[\"This is document 1\", \"This is document 2\"]\n",
    ")"
   ]
  },
  {
   "cell_type": "code",
   "execution_count": 67,
   "id": "b270e133-b28d-40bb-878f-32240903e2ec",
   "metadata": {},
   "outputs": [
    {
     "data": {
      "text/plain": [
       "3"
      ]
     },
     "execution_count": 67,
     "metadata": {},
     "output_type": "execute_result"
    }
   ],
   "source": [
    "test_collection.count()"
   ]
  },
  {
   "cell_type": "code",
   "execution_count": 68,
   "id": "1a2f345c-ddd5-4c49-bef4-496cdddc7aec",
   "metadata": {},
   "outputs": [
    {
     "data": {
      "text/plain": [
       "{'ids': ['my-doc-1'],\n",
       " 'embeddings': None,\n",
       " 'metadatas': [None],\n",
       " 'documents': ['This is document 1'],\n",
       " 'uris': None,\n",
       " 'data': None}"
      ]
     },
     "execution_count": 68,
     "metadata": {},
     "output_type": "execute_result"
    }
   ],
   "source": [
    "test_collection.get(ids=[\"my-doc-1\"])"
   ]
  },
  {
   "cell_type": "code",
   "execution_count": 69,
   "id": "1f04aada-6670-4166-a0a4-a4c38b1a953a",
   "metadata": {
    "scrolled": true
   },
   "outputs": [],
   "source": [
    "# test_collection.get(ids=[\"my-doc-1\"], include=[\"embeddings\", \"documents\", \"metadatas\"])\n"
   ]
  },
  {
   "cell_type": "code",
   "execution_count": 70,
   "id": "3ed2eec4-f2fa-41b3-b2c3-33a0ddc384b7",
   "metadata": {},
   "outputs": [],
   "source": [
    "# len(test_collection.get(ids=[\"my-doc-1\"], include=[\"embeddings\", \"documents\", \"metadatas\"])['embeddings'][0])"
   ]
  },
  {
   "cell_type": "markdown",
   "id": "9dfee5b8-fea4-400f-945f-0d62e6d439c2",
   "metadata": {},
   "source": [
    "## Vector Operations With Netflix Titles Dataset"
   ]
  },
  {
   "cell_type": "code",
   "execution_count": 71,
   "id": "bff0ed41-de6b-48e5-8708-8fbb3542b0a2",
   "metadata": {},
   "outputs": [],
   "source": [
    "import csv  # To read the CSV file\n",
    "\n",
    "# Create empty lists to store our dataset\n",
    "ids = []\n",
    "documents = []\n",
    "metadatas = []\n",
    "\n",
    "# Open the Netflix dataset file\n",
    "with open('netflix_titles.csv') as csvfile:\n",
    "    reader = csv.DictReader(csvfile)  # Read CSV as a dictionary for each row\n",
    "\n",
    "    # Loop over each row in the CSV\n",
    "    for i, row in enumerate(reader):\n",
    "        # Save the unique show_id\n",
    "        ids.append(row['show_id'])\n",
    "\n",
    "        # Save metadata like type and release year\n",
    "        metadatas.append({\n",
    "            \"type\": row['type'],\n",
    "            \"release_year\": int(row['release_year'])  # Cast to integer for consistency\n",
    "        })\n",
    "\n",
    "        # Combine title, type, description, and categories into one text block\n",
    "        text = f\"Title: {row['title']} {row['type']} \\nDescription: {row['description']} \\nCategories: {row['listed_in']}\"\n",
    "        documents.append(text)"
   ]
  },
  {
   "cell_type": "code",
   "execution_count": 72,
   "id": "99b85faf-6565-4ff9-b9e6-fa26d9269c96",
   "metadata": {},
   "outputs": [
    {
     "name": "stdout",
     "output_type": "stream",
     "text": [
      "['s1', 's2']\n",
      "['Title: Dick Johnson Is Dead Movie \\nDescription: As her father nears the end of his life, filmmaker Kirsten Johnson stages his death in inventive and comical ways to help them both face the inevitable. \\nCategories: Documentaries', 'Title: Blood & Water TV Show \\nDescription: After crossing paths at a party, a Cape Town teen sets out to prove whether a private-school swimming star is her sister who was abducted at birth. \\nCategories: International TV Shows, TV Dramas, TV Mysteries']\n",
      "[{'type': 'Movie', 'release_year': 2020}, {'type': 'TV Show', 'release_year': 2021}]\n"
     ]
    }
   ],
   "source": [
    "print(ids[:2])\n",
    "print(documents[:2])\n",
    "print(metadatas[:2])"
   ]
  },
  {
   "cell_type": "code",
   "execution_count": 73,
   "id": "9f06ce5c-cb0f-4ccf-a133-e5e9b612cf0b",
   "metadata": {},
   "outputs": [],
   "source": [
    "# for doc in documents[1:3]:\n",
    "#     print(doc)\n",
    "#     print('-' * 50)  # Just a separator for readability"
   ]
  },
  {
   "cell_type": "markdown",
   "id": "78c75b89-4d4f-4232-98ac-1a9be6dcf001",
   "metadata": {},
   "source": [
    "## Create Collection for Netflix Titles"
   ]
  },
  {
   "cell_type": "code",
   "execution_count": 74,
   "id": "c852deee-d4cf-49f2-bfe4-85093697d346",
   "metadata": {},
   "outputs": [
    {
     "name": "stdout",
     "output_type": "stream",
     "text": [
      "[Collection(name=test_titles1), Collection(name=netflix_titles), Collection(name=test_titles)]\n"
     ]
    }
   ],
   "source": [
    "netflix_collection = client.get_or_create_collection(\n",
    "    name=\"netflix_titles\",\n",
    "    embedding_function=OpenAIEmbeddingFunction(model_name=\"text-embedding-3-small\", api_key=OPEN_API_KEY)\n",
    ")\n",
    "# List the collections\n",
    "print(client.list_collections())"
   ]
  },
  {
   "cell_type": "markdown",
   "id": "48557fb8-39ed-4378-9106-094d3cba96c8",
   "metadata": {},
   "source": [
    "## Add Documents"
   ]
  },
  {
   "cell_type": "code",
   "execution_count": 75,
   "id": "07b06d4a-cead-4075-8025-c4a2f98cf9eb",
   "metadata": {},
   "outputs": [
    {
     "name": "stderr",
     "output_type": "stream",
     "text": [
      "Add of existing embedding ID: s1\n",
      "Add of existing embedding ID: s2\n",
      "Add of existing embedding ID: s3\n",
      "Add of existing embedding ID: s4\n",
      "Add of existing embedding ID: s5\n",
      "Add of existing embedding ID: s6\n",
      "Add of existing embedding ID: s7\n",
      "Add of existing embedding ID: s8\n",
      "Add of existing embedding ID: s9\n",
      "Add of existing embedding ID: s10\n",
      "Add of existing embedding ID: s11\n",
      "Add of existing embedding ID: s12\n",
      "Add of existing embedding ID: s13\n",
      "Add of existing embedding ID: s14\n",
      "Add of existing embedding ID: s15\n",
      "Add of existing embedding ID: s16\n",
      "Add of existing embedding ID: s17\n",
      "Add of existing embedding ID: s18\n",
      "Add of existing embedding ID: s19\n",
      "Add of existing embedding ID: s20\n",
      "Add of existing embedding ID: s21\n",
      "Add of existing embedding ID: s22\n",
      "Add of existing embedding ID: s23\n",
      "Add of existing embedding ID: s24\n",
      "Add of existing embedding ID: s25\n",
      "Add of existing embedding ID: s26\n",
      "Add of existing embedding ID: s27\n",
      "Add of existing embedding ID: s28\n",
      "Add of existing embedding ID: s29\n",
      "Add of existing embedding ID: s30\n",
      "Add of existing embedding ID: s31\n",
      "Add of existing embedding ID: s32\n",
      "Add of existing embedding ID: s33\n",
      "Add of existing embedding ID: s34\n",
      "Add of existing embedding ID: s35\n",
      "Add of existing embedding ID: s36\n",
      "Add of existing embedding ID: s37\n",
      "Add of existing embedding ID: s38\n",
      "Add of existing embedding ID: s39\n",
      "Add of existing embedding ID: s40\n",
      "Add of existing embedding ID: s41\n",
      "Add of existing embedding ID: s42\n",
      "Add of existing embedding ID: s43\n",
      "Add of existing embedding ID: s44\n",
      "Add of existing embedding ID: s45\n",
      "Add of existing embedding ID: s46\n",
      "Add of existing embedding ID: s47\n",
      "Add of existing embedding ID: s48\n",
      "Add of existing embedding ID: s49\n",
      "Add of existing embedding ID: s50\n",
      "Add of existing embedding ID: s51\n",
      "Add of existing embedding ID: s52\n",
      "Add of existing embedding ID: s53\n",
      "Add of existing embedding ID: s54\n",
      "Add of existing embedding ID: s55\n",
      "Add of existing embedding ID: s56\n",
      "Add of existing embedding ID: s57\n",
      "Add of existing embedding ID: s58\n",
      "Add of existing embedding ID: s59\n",
      "Add of existing embedding ID: s60\n",
      "Add of existing embedding ID: s61\n",
      "Add of existing embedding ID: s62\n",
      "Add of existing embedding ID: s63\n",
      "Add of existing embedding ID: s64\n",
      "Add of existing embedding ID: s65\n",
      "Add of existing embedding ID: s66\n",
      "Add of existing embedding ID: s67\n",
      "Add of existing embedding ID: s68\n",
      "Add of existing embedding ID: s69\n",
      "Add of existing embedding ID: s70\n",
      "Add of existing embedding ID: s71\n",
      "Add of existing embedding ID: s72\n",
      "Add of existing embedding ID: s73\n",
      "Add of existing embedding ID: s74\n",
      "Add of existing embedding ID: s75\n",
      "Add of existing embedding ID: s76\n",
      "Add of existing embedding ID: s77\n",
      "Add of existing embedding ID: s78\n",
      "Add of existing embedding ID: s79\n",
      "Add of existing embedding ID: s80\n",
      "Add of existing embedding ID: s81\n",
      "Add of existing embedding ID: s82\n",
      "Add of existing embedding ID: s83\n",
      "Add of existing embedding ID: s84\n",
      "Add of existing embedding ID: s85\n",
      "Add of existing embedding ID: s86\n",
      "Add of existing embedding ID: s87\n",
      "Add of existing embedding ID: s88\n",
      "Add of existing embedding ID: s89\n",
      "Add of existing embedding ID: s90\n",
      "Add of existing embedding ID: s91\n",
      "Add of existing embedding ID: s92\n",
      "Add of existing embedding ID: s93\n",
      "Add of existing embedding ID: s94\n",
      "Add of existing embedding ID: s95\n",
      "Add of existing embedding ID: s96\n",
      "Add of existing embedding ID: s97\n",
      "Add of existing embedding ID: s98\n",
      "Add of existing embedding ID: s99\n",
      "Add of existing embedding ID: s100\n",
      "Insert of existing embedding ID: s1\n",
      "Insert of existing embedding ID: s2\n",
      "Insert of existing embedding ID: s3\n",
      "Insert of existing embedding ID: s4\n",
      "Insert of existing embedding ID: s5\n",
      "Insert of existing embedding ID: s6\n",
      "Insert of existing embedding ID: s7\n",
      "Insert of existing embedding ID: s8\n",
      "Insert of existing embedding ID: s9\n",
      "Insert of existing embedding ID: s10\n",
      "Insert of existing embedding ID: s11\n",
      "Insert of existing embedding ID: s12\n",
      "Insert of existing embedding ID: s13\n",
      "Insert of existing embedding ID: s14\n",
      "Insert of existing embedding ID: s15\n",
      "Insert of existing embedding ID: s16\n",
      "Insert of existing embedding ID: s17\n",
      "Insert of existing embedding ID: s18\n",
      "Insert of existing embedding ID: s19\n",
      "Insert of existing embedding ID: s20\n",
      "Insert of existing embedding ID: s21\n",
      "Insert of existing embedding ID: s22\n",
      "Insert of existing embedding ID: s23\n",
      "Insert of existing embedding ID: s24\n",
      "Insert of existing embedding ID: s25\n",
      "Insert of existing embedding ID: s26\n",
      "Insert of existing embedding ID: s27\n",
      "Insert of existing embedding ID: s28\n",
      "Insert of existing embedding ID: s29\n",
      "Insert of existing embedding ID: s30\n",
      "Insert of existing embedding ID: s31\n",
      "Insert of existing embedding ID: s32\n",
      "Insert of existing embedding ID: s33\n",
      "Insert of existing embedding ID: s34\n",
      "Insert of existing embedding ID: s35\n",
      "Insert of existing embedding ID: s36\n",
      "Insert of existing embedding ID: s37\n",
      "Insert of existing embedding ID: s38\n",
      "Insert of existing embedding ID: s39\n",
      "Insert of existing embedding ID: s40\n",
      "Insert of existing embedding ID: s41\n",
      "Insert of existing embedding ID: s42\n",
      "Insert of existing embedding ID: s43\n",
      "Insert of existing embedding ID: s44\n",
      "Insert of existing embedding ID: s45\n",
      "Insert of existing embedding ID: s46\n",
      "Insert of existing embedding ID: s47\n",
      "Insert of existing embedding ID: s48\n",
      "Insert of existing embedding ID: s49\n",
      "Insert of existing embedding ID: s50\n",
      "Insert of existing embedding ID: s51\n",
      "Insert of existing embedding ID: s52\n",
      "Insert of existing embedding ID: s53\n",
      "Insert of existing embedding ID: s54\n",
      "Insert of existing embedding ID: s55\n",
      "Insert of existing embedding ID: s56\n",
      "Insert of existing embedding ID: s57\n",
      "Insert of existing embedding ID: s58\n",
      "Insert of existing embedding ID: s59\n",
      "Insert of existing embedding ID: s60\n",
      "Insert of existing embedding ID: s61\n",
      "Insert of existing embedding ID: s62\n",
      "Insert of existing embedding ID: s63\n",
      "Insert of existing embedding ID: s64\n",
      "Insert of existing embedding ID: s65\n",
      "Insert of existing embedding ID: s66\n",
      "Insert of existing embedding ID: s67\n",
      "Insert of existing embedding ID: s68\n",
      "Insert of existing embedding ID: s69\n",
      "Insert of existing embedding ID: s70\n",
      "Insert of existing embedding ID: s71\n",
      "Insert of existing embedding ID: s72\n",
      "Insert of existing embedding ID: s73\n",
      "Insert of existing embedding ID: s74\n",
      "Insert of existing embedding ID: s75\n",
      "Insert of existing embedding ID: s76\n",
      "Insert of existing embedding ID: s77\n",
      "Insert of existing embedding ID: s78\n",
      "Insert of existing embedding ID: s79\n",
      "Insert of existing embedding ID: s80\n",
      "Insert of existing embedding ID: s81\n",
      "Insert of existing embedding ID: s82\n",
      "Insert of existing embedding ID: s83\n",
      "Insert of existing embedding ID: s84\n",
      "Insert of existing embedding ID: s85\n",
      "Insert of existing embedding ID: s86\n",
      "Insert of existing embedding ID: s87\n",
      "Insert of existing embedding ID: s88\n",
      "Insert of existing embedding ID: s89\n",
      "Insert of existing embedding ID: s90\n",
      "Insert of existing embedding ID: s91\n",
      "Insert of existing embedding ID: s92\n",
      "Insert of existing embedding ID: s93\n",
      "Insert of existing embedding ID: s94\n",
      "Insert of existing embedding ID: s95\n",
      "Insert of existing embedding ID: s96\n",
      "Insert of existing embedding ID: s97\n",
      "Insert of existing embedding ID: s98\n",
      "Insert of existing embedding ID: s99\n",
      "Insert of existing embedding ID: s100\n"
     ]
    }
   ],
   "source": [
    "# Add the documents and metadats, IDs to the collection\n",
    "netflix_collection.add(ids=ids,metadatas=metadatas, documents=documents)"
   ]
  },
  {
   "cell_type": "code",
   "execution_count": 76,
   "id": "853e4585-399e-407b-acc4-4d9c53f8ded1",
   "metadata": {},
   "outputs": [
    {
     "name": "stdout",
     "output_type": "stream",
     "text": [
      "No. of documents: 100\n"
     ]
    }
   ],
   "source": [
    "print(f\"No. of documents: {netflix_collection.count()}\")\n"
   ]
  },
  {
   "cell_type": "code",
   "execution_count": 77,
   "id": "b7eb5c30-7b53-4569-bd2b-1b7421f6c464",
   "metadata": {},
   "outputs": [
    {
     "data": {
      "text/plain": [
       "{'ids': ['s1'],\n",
       " 'embeddings': None,\n",
       " 'metadatas': [{'release_year': 2020, 'type': 'Movie'}],\n",
       " 'documents': ['Title: Dick Johnson Is Dead Movie \\nDescription: As her father nears the end of his life, filmmaker Kirsten Johnson stages his death in inventive and comical ways to help them both face the inevitable. \\nCategories: Documentaries'],\n",
       " 'uris': None,\n",
       " 'data': None}"
      ]
     },
     "execution_count": 77,
     "metadata": {},
     "output_type": "execute_result"
    }
   ],
   "source": [
    "netflix_collection.get(ids=[\"s1\"])"
   ]
  },
  {
   "cell_type": "markdown",
   "id": "b54dbc8a-4017-4bb4-9faa-3b82461a8430",
   "metadata": {},
   "source": [
    "## Semantic search application"
   ]
  },
  {
   "cell_type": "code",
   "execution_count": 78,
   "id": "cc6ef7db-9930-4060-889a-4117c5362214",
   "metadata": {},
   "outputs": [],
   "source": [
    "query_strings=[\"comedy tv show\"]"
   ]
  },
  {
   "cell_type": "code",
   "execution_count": 79,
   "id": "2165b0e4-4ab7-4923-954c-6ce4bf0aae12",
   "metadata": {},
   "outputs": [
    {
     "name": "stdout",
     "output_type": "stream",
     "text": [
      "{'ids': [['s100', 's16']], 'distances': [[1.0077470541000366, 1.0844204425811768]], 'metadatas': [[{'release_year': 2021, 'type': 'TV Show'}, {'release_year': 2021, 'type': 'TV Show'}]], 'embeddings': None, 'documents': [['Title: On the Verge TV Show \\nDescription: Four women â€” a chef, a single mom, an heiress and a job seeker â€” dig into love and work, with a generous side of midlife crises, in pre-pandemic LA. \\nCategories: TV Comedies, TV Dramas', 'Title: Dear White People TV Show \\nDescription: Students of color navigate the daily slights and slippery politics of life at an Ivy League college that\\'s not nearly as \"post-racial\" as it thinks. \\nCategories: TV Comedies, TV Dramas']], 'uris': None, 'data': None}\n"
     ]
    }
   ],
   "source": [
    "result=netflix_collection.query(query_texts=query_strings,\n",
    "                               n_results=2)\n",
    "print(result)"
   ]
  },
  {
   "cell_type": "code",
   "execution_count": 85,
   "id": "2f4ff278-685f-45dc-9fd0-5be588716868",
   "metadata": {},
   "outputs": [
    {
     "name": "stdout",
     "output_type": "stream",
     "text": [
      "Document: Title: Grown Ups Movie \n",
      "Description: Mourning the loss of their beloved junior high basketball coach, five middle-aged pals reunite at a lake house and rediscover the joys of being a kid. \n",
      "Categories: Comedies\n",
      "Metadata: {'release_year': 2010, 'type': 'Movie'}\n",
      "Distance: 1.3652856349945068\n",
      "--------------------------------------------------\n",
      "Document: Title: Kid Cosmic TV Show \n",
      "Description: A boy's superhero dreams come true when he finds five powerful cosmic stones. But saving the day is harder than he imagined â€” and he can't do it alone. \n",
      "Categories: Kids' TV, TV Comedies, TV Sci-Fi & Fantasy\n",
      "Metadata: {'release_year': 2021, 'type': 'TV Show'}\n",
      "Distance: 1.4220644235610962\n",
      "--------------------------------------------------\n"
     ]
    }
   ],
   "source": [
    "for doc, meta, distance in zip(\n",
    "    result['documents'][0],\n",
    "    result['metadatas'][0],\n",
    "    result['distances'][0]\n",
    "):\n",
    "    print(f\"Document: {doc}\")\n",
    "    print(f\"Metadata: {meta}\")\n",
    "    print(f\"Distance: {distance}\")\n",
    "    print('-' * 50)"
   ]
  },
  {
   "cell_type": "code",
   "execution_count": 98,
   "id": "eebeebf6-f16c-4570-b6ef-70d9b402ee74",
   "metadata": {},
   "outputs": [],
   "source": [
    "query_strings2=[\"comedy\",\"kids\"]"
   ]
  },
  {
   "cell_type": "code",
   "execution_count": 99,
   "id": "e20ac4be-c9ce-4dff-83a1-6fa7c248a360",
   "metadata": {
    "scrolled": true
   },
   "outputs": [
    {
     "name": "stdout",
     "output_type": "stream",
     "text": [
      "{'ids': [['s80', 's10', 's78', 's31', 's14'], ['s24', 's7', 's65', 's72', 's78']], 'distances': [[1.451798677444458, 1.5047898292541504, 1.5348659753799438, 1.543830156326294, 1.5622550249099731], [1.435831069946289, 1.5152090787887573, 1.515388011932373, 1.5307660102844238, 1.550815463066101]], 'metadatas': [[{'release_year': 2021, 'type': 'Movie'}, {'release_year': 2021, 'type': 'Movie'}, {'release_year': 2021, 'type': 'Movie'}, {'release_year': 2021, 'type': 'Movie'}, {'release_year': 2021, 'type': 'Movie'}], [{'release_year': 2021, 'type': 'Movie'}, {'release_year': 2021, 'type': 'Movie'}, {'release_year': 2021, 'type': 'Movie'}, {'release_year': 2021, 'type': 'Movie'}, {'release_year': 2021, 'type': 'Movie'}]], 'embeddings': None, 'documents': [['Title: Tughlaq Durbar (Telugu) Movie \\nDescription: A budding politician has devious plans to rise in the ranks â€” until an unexpected new presence begins to interfere with his every crooked move. \\nCategories: Comedies, Dramas, International Movies', \"Title: The Starling Movie \\nDescription: A woman adjusting to life after a loss contends with a feisty bird that's taken over her garden â€” and a husband who's struggling to find a way forward. \\nCategories: Comedies, Dramas\", 'Title: Little Singham - Black Shadow Movie \\nDescription: Kid cop Little Singham loses all his superpowers while trying to stop the demon Kaalâ€™s new evil plans! Can his inner strength help him defeat the enemy? \\nCategories: Children & Family Movies, Comedies', 'Title: Ankahi Kahaniya Movie \\nDescription: As big city life buzzes around them, lonely souls discover surprising sources of connection and companionship in three tales of love, loss and longing. \\nCategories: Dramas, Independent Movies, International Movies', \"Title: Confessions of an Invisible Girl Movie \\nDescription: When the clever but socially-awkward TetÃª joins a new school, she'll do anything to fit in. But the queen bee among her classmates has other ideas. \\nCategories: Children & Family Movies, Comedies\"], ['Title: Go! Go! Cory Carson: Chrissy Takes the Wheel Movie \\nDescription: From arcade games to sled days and hiccup cures, Cory Carsonâ€™s curious little sister Chrissy speeds off on her own for fun and adventure all over town! \\nCategories: Children & Family Movies', \"Title: My Little Pony: A New Generation Movie \\nDescription: Equestria's divided. But a bright-eyed hero believes Earth Ponies, Pegasi and Unicorns should be pals â€” and, hoof to heart, sheâ€™s determined to prove it. \\nCategories: Children & Family Movies\", \"Title: Nightbooks Movie \\nDescription: Scary story fan Alex must tell a spine-tingling tale every night â€” or stay trapped with his new friend in a wicked witch's magical apartment forever. \\nCategories: Children & Family Movies\", \"Title: A StoryBots Space Adventure Movie \\nDescription: Join the StoryBots and the space travelers of the historic Inspiration4 mission as they search for answers to kids' questions about space. \\nCategories: Children & Family Movies\", 'Title: Little Singham - Black Shadow Movie \\nDescription: Kid cop Little Singham loses all his superpowers while trying to stop the demon Kaalâ€™s new evil plans! Can his inner strength help him defeat the enemy? \\nCategories: Children & Family Movies, Comedies']], 'uris': None, 'data': None}\n"
     ]
    }
   ],
   "source": [
    "result2=netflix_collection.query(query_texts=query_strings2,\n",
    "                               n_results=5,where={\"$and\": \n",
    "                                 [ \n",
    "                                     {\"type\":\n",
    "                                      {\"$eq\": \"Movie\"}\n",
    "                                     },\n",
    "                                     {\"release_year\":\n",
    "                                      {\"$gt\": 2020}\n",
    "                                     } \n",
    "                                 ]\n",
    "                                })\n",
    "print(result2)"
   ]
  },
  {
   "cell_type": "code",
   "execution_count": 100,
   "id": "bba0c6a9-84d4-4f81-8133-ad5b725d1cda",
   "metadata": {},
   "outputs": [
    {
     "name": "stdout",
     "output_type": "stream",
     "text": [
      "Document: Title: Tughlaq Durbar (Telugu) Movie \n",
      "Description: A budding politician has devious plans to rise in the ranks â€” until an unexpected new presence begins to interfere with his every crooked move. \n",
      "Categories: Comedies, Dramas, International Movies\n",
      "Metadata: {'release_year': 2021, 'type': 'Movie'}\n",
      "Distance: 1.451798677444458\n",
      "--------------------------------------------------\n",
      "Document: Title: The Starling Movie \n",
      "Description: A woman adjusting to life after a loss contends with a feisty bird that's taken over her garden â€” and a husband who's struggling to find a way forward. \n",
      "Categories: Comedies, Dramas\n",
      "Metadata: {'release_year': 2021, 'type': 'Movie'}\n",
      "Distance: 1.5047898292541504\n",
      "--------------------------------------------------\n",
      "Document: Title: Little Singham - Black Shadow Movie \n",
      "Description: Kid cop Little Singham loses all his superpowers while trying to stop the demon Kaalâ€™s new evil plans! Can his inner strength help him defeat the enemy? \n",
      "Categories: Children & Family Movies, Comedies\n",
      "Metadata: {'release_year': 2021, 'type': 'Movie'}\n",
      "Distance: 1.5348659753799438\n",
      "--------------------------------------------------\n",
      "Document: Title: Ankahi Kahaniya Movie \n",
      "Description: As big city life buzzes around them, lonely souls discover surprising sources of connection and companionship in three tales of love, loss and longing. \n",
      "Categories: Dramas, Independent Movies, International Movies\n",
      "Metadata: {'release_year': 2021, 'type': 'Movie'}\n",
      "Distance: 1.543830156326294\n",
      "--------------------------------------------------\n",
      "Document: Title: Confessions of an Invisible Girl Movie \n",
      "Description: When the clever but socially-awkward TetÃª joins a new school, she'll do anything to fit in. But the queen bee among her classmates has other ideas. \n",
      "Categories: Children & Family Movies, Comedies\n",
      "Metadata: {'release_year': 2021, 'type': 'Movie'}\n",
      "Distance: 1.5622550249099731\n",
      "--------------------------------------------------\n"
     ]
    }
   ],
   "source": [
    "for doc, meta, distance in zip(\n",
    "    result2['documents'][0],\n",
    "    result2['metadatas'][0],\n",
    "    result2['distances'][0]\n",
    "):\n",
    "    print(f\"Document: {doc}\")\n",
    "    print(f\"Metadata: {meta}\")\n",
    "    print(f\"Distance: {distance}\")\n",
    "    print('-' * 50)"
   ]
  }
 ],
 "metadata": {
  "kernelspec": {
   "display_name": "Python 3 (ipykernel)",
   "language": "python",
   "name": "python3"
  },
  "language_info": {
   "codemirror_mode": {
    "name": "ipython",
    "version": 3
   },
   "file_extension": ".py",
   "mimetype": "text/x-python",
   "name": "python",
   "nbconvert_exporter": "python",
   "pygments_lexer": "ipython3",
   "version": "3.12.7"
  }
 },
 "nbformat": 4,
 "nbformat_minor": 5
}
