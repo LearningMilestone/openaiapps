{
 "cells": [
  {
   "cell_type": "markdown",
   "id": "5ee2d6f7-74b4-4634-93ef-de43c85f06ff",
   "metadata": {},
   "source": [
    "<h1><center>Classify Review Sentiments</center></h1>\n",
    "<h2><center>Embeddings</center></h2>\n",
    "<h3><center>Build AI Apps - Beginner Level</center></h3>"
   ]
  },
  {
   "cell_type": "markdown",
   "id": "1f4aa4c6-d068-41f8-9c4c-d1d68b09b39c",
   "metadata": {},
   "source": [
    "## Before you start\n",
    "\n",
    "In order to complete the project you will need to create a developer account with OpenAI and store your API key as an environment variable. Instructions for these steps are outlined below.\n",
    "\n",
    "### Create a developer account with OpenAI\n",
    "\n",
    "1. Go to the [API signup page](https://platform.openai.com/signup). \n",
    "\n",
    "2. Create your account (you'll need to provide your email address and your phone number).\n",
    "\n",
    "3. Go to the [API keys page](https://platform.openai.com/account/api-keys). \n",
    "\n",
    "4. Create a new secret key.\n",
    "\n",
    "\n",
    "5. **Take a copy of it**. (If you lose it, delete the key and create a new one.)"
   ]
  },
  {
   "cell_type": "markdown",
   "id": "8a2df415-d22d-466e-9d96-12698c267997",
   "metadata": {},
   "source": [
    "### Add a payment method\n",
    "\n",
    "OpenAI sometimes provides free credits for the API, but this can vary based on geography. You may need to add debit/credit card details. \n",
    "\n",
    "**Using the `gpt-3.5-turbo` model in this project should incur a cost less than 1 US cent (but if you rerun tasks, you will be charged every time).** For more information on pricing, see [OpenAI's pricing page](https://openai.com/pricing).\n",
    "\n",
    "1. Go to the [Payment Methods page](https://platform.openai.com/account/billing/payment-methods).\n",
    "\n",
    "2. Click Add payment method.\n",
    "\n",
    "3. Fill in your card details."
   ]
  },
  {
   "cell_type": "markdown",
   "id": "cb423d95-5cd7-4632-a79c-728821d7393b",
   "metadata": {},
   "source": [
    "### Install open ai library"
   ]
  },
  {
   "cell_type": "code",
   "execution_count": 81,
   "id": "ab70fec0-93f4-4d5b-b1d2-21b99ddab27c",
   "metadata": {},
   "outputs": [],
   "source": [
    "# !pip install openai"
   ]
  },
  {
   "cell_type": "markdown",
   "id": "152fe86f-3844-4fe0-b6be-c681e47ec660",
   "metadata": {},
   "source": [
    "### Load Open AI Key"
   ]
  },
  {
   "cell_type": "code",
   "execution_count": 82,
   "id": "53a81d10-ae21-46cb-9cfb-bda2e82afa9b",
   "metadata": {},
   "outputs": [],
   "source": [
    "import os\n",
    "from dotenv import load_dotenv, find_dotenv\n",
    "_ = load_dotenv(find_dotenv()) # read local .env file\n",
    "# print(find_dotenv())\n",
    "\n",
    "OPEN_API_KEY=os.getenv('OPENAI_API_KEY')\n",
    "\n",
    "# print(OPEN_API_KEY)\n"
   ]
  },
  {
   "cell_type": "markdown",
   "id": "c904f8ec-b8bc-420d-8fff-5890982e4274",
   "metadata": {},
   "source": [
    "### Create Client"
   ]
  },
  {
   "cell_type": "code",
   "execution_count": 83,
   "id": "cf379b27-a5f3-4748-9ae5-a67f128eb963",
   "metadata": {},
   "outputs": [],
   "source": [
    "\n",
    "from openai import OpenAI\n",
    "\n",
    "# Define Model\n",
    "# model=\"gpt-4o-mini\"\n",
    "emb_model=\"text-embedding-3-small\"\n",
    "\n",
    "#define client\n",
    "client = OpenAI(api_key=OPEN_API_KEY)"
   ]
  },
  {
   "cell_type": "markdown",
   "id": "bbe2be04-e10a-4bc3-bfe5-ec30fdc5ac1b",
   "metadata": {},
   "source": [
    "## Make Your First Call"
   ]
  },
  {
   "cell_type": "code",
   "execution_count": 84,
   "id": "6600e8e0-4388-43a2-8474-0a6d1bfd9bcb",
   "metadata": {},
   "outputs": [],
   "source": [
    "# response=client.chat.completions.create(model=model,\n",
    "#                               messages=[{\"role\":\"user\",\"content\":\"Tell me more about gravity like I am a 5 year old kid in 2 lines\"}\n",
    "#                                        ]\n",
    "#                               )\n",
    "\n",
    "# print(response.choices[0].message.content)"
   ]
  },
  {
   "cell_type": "markdown",
   "id": "4e616162-e2fa-4c78-b93b-d54b9be5d05f",
   "metadata": {},
   "source": [
    "## Load Data"
   ]
  },
  {
   "cell_type": "code",
   "execution_count": 85,
   "id": "beef041e-bf25-442c-8832-9667ff157b54",
   "metadata": {},
   "outputs": [],
   "source": [
    "import pandas as pd\n",
    "\n",
    "df = pd.read_csv(\"restaurant_review.csv\")\n"
   ]
  },
  {
   "cell_type": "code",
   "execution_count": 86,
   "id": "6f933b1f-3dbf-43bb-b8cd-d77bfbb47944",
   "metadata": {},
   "outputs": [
    {
     "data": {
      "text/html": [
       "<div>\n",
       "<style scoped>\n",
       "    .dataframe tbody tr th:only-of-type {\n",
       "        vertical-align: middle;\n",
       "    }\n",
       "\n",
       "    .dataframe tbody tr th {\n",
       "        vertical-align: top;\n",
       "    }\n",
       "\n",
       "    .dataframe thead th {\n",
       "        text-align: right;\n",
       "    }\n",
       "</style>\n",
       "<table border=\"1\" class=\"dataframe\">\n",
       "  <thead>\n",
       "    <tr style=\"text-align: right;\">\n",
       "      <th></th>\n",
       "      <th>Review</th>\n",
       "    </tr>\n",
       "  </thead>\n",
       "  <tbody>\n",
       "    <tr>\n",
       "      <th>0</th>\n",
       "      <td>I've been to this place about two times and i ...</td>\n",
       "    </tr>\n",
       "    <tr>\n",
       "      <th>1</th>\n",
       "      <td>I have visited this pub last weekend with grou...</td>\n",
       "    </tr>\n",
       "    <tr>\n",
       "      <th>2</th>\n",
       "      <td>Surely one of the best lasagna you can have. T...</td>\n",
       "    </tr>\n",
       "    <tr>\n",
       "      <th>3</th>\n",
       "      <td>Closed ambiance, loud. Food was filling, we or...</td>\n",
       "    </tr>\n",
       "    <tr>\n",
       "      <th>4</th>\n",
       "      <td>It was great experience . You will find crowd ...</td>\n",
       "    </tr>\n",
       "  </tbody>\n",
       "</table>\n",
       "</div>"
      ],
      "text/plain": [
       "                                              Review\n",
       "0  I've been to this place about two times and i ...\n",
       "1  I have visited this pub last weekend with grou...\n",
       "2  Surely one of the best lasagna you can have. T...\n",
       "3  Closed ambiance, loud. Food was filling, we or...\n",
       "4  It was great experience . You will find crowd ..."
      ]
     },
     "execution_count": 86,
     "metadata": {},
     "output_type": "execute_result"
    }
   ],
   "source": [
    "df.head()"
   ]
  },
  {
   "cell_type": "code",
   "execution_count": 87,
   "id": "be5a69cd-3b3e-483c-ba71-ef4a7ea8fc3e",
   "metadata": {},
   "outputs": [],
   "source": [
    "review_list = df['Review'].tolist()\n",
    "top_5 = review_list[:5]"
   ]
  },
  {
   "cell_type": "code",
   "execution_count": 88,
   "id": "ecc4d4b8-8be4-42c2-9a38-7462519bfc0c",
   "metadata": {},
   "outputs": [
    {
     "data": {
      "text/plain": [
       "[\"I've been to this place about two times and i really liked the ambience, interior will give you feels of london streets.\\ntalking about food, only good thing was lasagna other than that we ordered veg Platter and lasagna rolls which were really bad in taste. dj was not too good\",\n",
       " 'I have visited this pub last weekend with group of friends, we had brewed beers, veg & non-veg starters. Food tastes good, prices are reasonable, ambience is decent, service is good even though it’s on Saturday night.\\n\\nOverall i liked the place, I will visit again!!',\n",
       " 'Surely one of the best lasagna you can have. The place never disappoints you even when you are just trying something for the first time here. Chilli cheese toast is something you have to try .\\n\\nGreat food at budget price with good service in a lovely ambience.\\nWhat more can you ask for....',\n",
       " \"Closed ambiance, loud. Food was filling, we ordered veg platter and the pizza is a must try, thin crust with a good amount of cheese, if you're a cheese lover do try it.\\nAmbience- 4.5/5\\nService-4/5\\nFood-5/5\",\n",
       " 'It was great experience . You will find crowd mostly on Friday and Saturday dance floor is not that great. Pricing was normal. You can enjoy with family too.']"
      ]
     },
     "execution_count": 88,
     "metadata": {},
     "output_type": "execute_result"
    }
   ],
   "source": [
    "top_5"
   ]
  },
  {
   "cell_type": "markdown",
   "id": "d4a2e1db-72ee-4683-a6ea-e9e2287235f8",
   "metadata": {},
   "source": [
    "## Generate Embeddings for Reviews\n",
    "\n"
   ]
  },
  {
   "cell_type": "code",
   "execution_count": 89,
   "id": "bb6732af-1cad-4969-8bd3-518841631cf1",
   "metadata": {},
   "outputs": [],
   "source": [
    "# response=client.embeddings.create(model=emb_model,input=top_5)\n",
    "# response_dict=response.model_dump()\n",
    "# len(response_dict['data'][0]['embedding'])"
   ]
  },
  {
   "cell_type": "code",
   "execution_count": 90,
   "id": "8a4edff8-c18c-4ce8-ba1d-e8e2840061e0",
   "metadata": {},
   "outputs": [],
   "source": [
    "def create_embeddings(texts):\n",
    "    response=client.embeddings.create(model=emb_model,input=texts)\n",
    "    response_dict=response.model_dump()\n",
    "    return[data['embedding'] for data in response_dict['data']]"
   ]
  },
  {
   "cell_type": "code",
   "execution_count": 91,
   "id": "ca77b137-335e-4b8d-9045-7accb155fa55",
   "metadata": {},
   "outputs": [
    {
     "data": {
      "text/plain": [
       "1536"
      ]
     },
     "execution_count": 91,
     "metadata": {},
     "output_type": "execute_result"
    }
   ],
   "source": [
    "review_embeddings=create_embeddings(top_5)\n",
    "len(review_embeddings[0])"
   ]
  },
  {
   "cell_type": "code",
   "execution_count": 92,
   "id": "2ba3824a-e9c2-41a4-858d-57b33c549093",
   "metadata": {},
   "outputs": [],
   "source": [
    "sentiments = [{'label': 'Positive'}, {'label': 'Neutral'}, {'label': 'Negative'}]"
   ]
  },
  {
   "cell_type": "code",
   "execution_count": 93,
   "id": "1d027bde-af9e-4b4f-894a-2d7537e3add5",
   "metadata": {},
   "outputs": [],
   "source": [
    "# class_descriptions = [sentiment['label'] for sentiment in sentiments]\n",
    "class_descriptions = [\n",
    "    'This is a positive review expressing satisfaction and happiness.',\n",
    "    'This is a neutral review with no strong feelings.',\n",
    "    'This is a negative review expressing dissatisfaction and disappointment.'\n",
    "]"
   ]
  },
  {
   "cell_type": "code",
   "execution_count": 94,
   "id": "061b5ead-cb6d-4fa7-bf4e-855df30aded3",
   "metadata": {},
   "outputs": [],
   "source": [
    "class_embeddings=create_embeddings(class_descriptions)"
   ]
  },
  {
   "cell_type": "markdown",
   "id": "79e7e4a5-2b5e-4bbf-90ad-3f2a65505891",
   "metadata": {},
   "source": [
    "## Find Closest Sentiment Using Cosine Distance"
   ]
  },
  {
   "cell_type": "code",
   "execution_count": 95,
   "id": "b8fda29e-fe73-44f0-b3fb-853646bc410f",
   "metadata": {},
   "outputs": [],
   "source": [
    "from scipy.spatial import distance\n",
    "\n",
    "def find_closest(query_vector,embeddings):\n",
    "    distances=[]\n",
    "    for index, embedding in enumerate(embeddings):\n",
    "        dist=distance.cosine(query_vector,embedding)\n",
    "        distances.append({\"distance\":dist,\"index\":index})\n",
    "    return min(distances,key=lambda x: x['distance'])"
   ]
  },
  {
   "cell_type": "markdown",
   "id": "6cf2310d-3385-456b-ba4a-3b74de642f44",
   "metadata": {},
   "source": [
    "## Classify Each Review"
   ]
  },
  {
   "cell_type": "code",
   "execution_count": 99,
   "id": "bdd5c855-09f2-4600-8898-d5f87c5f5268",
   "metadata": {},
   "outputs": [],
   "source": [
    "result=[]\n",
    "for index, review in enumerate(top_5):\n",
    "    closest=find_closest(review_embeddings[index],class_embeddings)\n",
    "    # print(closest)\n",
    "    label=sentiments[closest['index']]['label']\n",
    "    # print(label)\n",
    "    result.append({'Review':review,'predicted_sentiment':label})"
   ]
  },
  {
   "cell_type": "code",
   "execution_count": 102,
   "id": "7766e8c3-31e8-441a-8dc7-c9d3c2248d72",
   "metadata": {},
   "outputs": [
    {
     "data": {
      "text/html": [
       "<div>\n",
       "<style scoped>\n",
       "    .dataframe tbody tr th:only-of-type {\n",
       "        vertical-align: middle;\n",
       "    }\n",
       "\n",
       "    .dataframe tbody tr th {\n",
       "        vertical-align: top;\n",
       "    }\n",
       "\n",
       "    .dataframe thead th {\n",
       "        text-align: right;\n",
       "    }\n",
       "</style>\n",
       "<table border=\"1\" class=\"dataframe\">\n",
       "  <thead>\n",
       "    <tr style=\"text-align: right;\">\n",
       "      <th></th>\n",
       "      <th>Review</th>\n",
       "      <th>predicted_sentiment</th>\n",
       "    </tr>\n",
       "  </thead>\n",
       "  <tbody>\n",
       "    <tr>\n",
       "      <th>0</th>\n",
       "      <td>I've been to this place about two times and i ...</td>\n",
       "      <td>Negative</td>\n",
       "    </tr>\n",
       "    <tr>\n",
       "      <th>1</th>\n",
       "      <td>I have visited this pub last weekend with grou...</td>\n",
       "      <td>Positive</td>\n",
       "    </tr>\n",
       "    <tr>\n",
       "      <th>2</th>\n",
       "      <td>Surely one of the best lasagna you can have. T...</td>\n",
       "      <td>Positive</td>\n",
       "    </tr>\n",
       "    <tr>\n",
       "      <th>3</th>\n",
       "      <td>Closed ambiance, loud. Food was filling, we or...</td>\n",
       "      <td>Positive</td>\n",
       "    </tr>\n",
       "    <tr>\n",
       "      <th>4</th>\n",
       "      <td>It was great experience . You will find crowd ...</td>\n",
       "      <td>Positive</td>\n",
       "    </tr>\n",
       "  </tbody>\n",
       "</table>\n",
       "</div>"
      ],
      "text/plain": [
       "                                              Review predicted_sentiment\n",
       "0  I've been to this place about two times and i ...            Negative\n",
       "1  I have visited this pub last weekend with grou...            Positive\n",
       "2  Surely one of the best lasagna you can have. T...            Positive\n",
       "3  Closed ambiance, loud. Food was filling, we or...            Positive\n",
       "4  It was great experience . You will find crowd ...            Positive"
      ]
     },
     "execution_count": 102,
     "metadata": {},
     "output_type": "execute_result"
    }
   ],
   "source": [
    "result_df=pd.DataFrame(result)\n",
    "result_df"
   ]
  }
 ],
 "metadata": {
  "kernelspec": {
   "display_name": "Python 3 (ipykernel)",
   "language": "python",
   "name": "python3"
  },
  "language_info": {
   "codemirror_mode": {
    "name": "ipython",
    "version": 3
   },
   "file_extension": ".py",
   "mimetype": "text/x-python",
   "name": "python",
   "nbconvert_exporter": "python",
   "pygments_lexer": "ipython3",
   "version": "3.11.13"
  }
 },
 "nbformat": 4,
 "nbformat_minor": 5
}
