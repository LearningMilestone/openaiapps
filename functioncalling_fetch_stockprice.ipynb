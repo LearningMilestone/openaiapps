{
 "cells": [
  {
   "cell_type": "markdown",
   "id": "5ee2d6f7-74b4-4634-93ef-de43c85f06ff",
   "metadata": {},
   "source": [
    "<h1><center>Fetch Stock Price & News</center></h1>\n",
    "<h2><center>Parallel Function Calling </center></h2>\n",
    "<h3><center>Build AI Apps - Beginner Level</center></h3>"
   ]
  },
  {
   "cell_type": "markdown",
   "id": "1f4aa4c6-d068-41f8-9c4c-d1d68b09b39c",
   "metadata": {},
   "source": [
    "## Before you start\n",
    "\n",
    "In order to complete the project you will need to create a developer account with OpenAI and store your API key as an environment variable. Instructions for these steps are outlined below.\n",
    "\n",
    "### Create a developer account with OpenAI\n",
    "\n",
    "1. Go to the [API signup page](https://platform.openai.com/signup). \n",
    "\n",
    "2. Create your account (you'll need to provide your email address and your phone number).\n",
    "\n",
    "3. Go to the [API keys page](https://platform.openai.com/account/api-keys). \n",
    "\n",
    "4. Create a new secret key.\n",
    "\n",
    "\n",
    "5. **Take a copy of it**. (If you lose it, delete the key and create a new one.)"
   ]
  },
  {
   "cell_type": "markdown",
   "id": "8a2df415-d22d-466e-9d96-12698c267997",
   "metadata": {},
   "source": [
    "### Add a payment method\n",
    "\n",
    "OpenAI sometimes provides free credits for the API, but this can vary based on geography. You may need to add debit/credit card details. \n",
    "\n",
    "**Using the `gpt-3.5-turbo` model in this project should incur a cost less than 1 US cent (but if you rerun tasks, you will be charged every time).** For more information on pricing, see [OpenAI's pricing page](https://openai.com/pricing).\n",
    "\n",
    "1. Go to the [Payment Methods page](https://platform.openai.com/account/billing/payment-methods).\n",
    "\n",
    "2. Click Add payment method.\n",
    "\n",
    "3. Fill in your card details."
   ]
  },
  {
   "cell_type": "markdown",
   "id": "cb423d95-5cd7-4632-a79c-728821d7393b",
   "metadata": {},
   "source": [
    "### Install open ai library"
   ]
  },
  {
   "cell_type": "code",
   "execution_count": 64,
   "id": "ab70fec0-93f4-4d5b-b1d2-21b99ddab27c",
   "metadata": {},
   "outputs": [],
   "source": [
    "# !pip install openai"
   ]
  },
  {
   "cell_type": "markdown",
   "id": "152fe86f-3844-4fe0-b6be-c681e47ec660",
   "metadata": {},
   "source": [
    "### Load Open AI Key"
   ]
  },
  {
   "cell_type": "code",
   "execution_count": 65,
   "id": "53a81d10-ae21-46cb-9cfb-bda2e82afa9b",
   "metadata": {},
   "outputs": [
    {
     "name": "stdout",
     "output_type": "stream",
     "text": [
      "C:\\Users\\agaan\\openaiapps\\.env\n"
     ]
    }
   ],
   "source": [
    "import os\n",
    "from dotenv import load_dotenv, find_dotenv\n",
    "_ = load_dotenv(find_dotenv()) # read local .env file\n",
    "print(find_dotenv())\n",
    "\n",
    "OPEN_API_KEY=os.getenv('OPENAI_API_KEY')\n",
    "\n",
    "# print(OPEN_API_KEY)\n"
   ]
  },
  {
   "cell_type": "markdown",
   "id": "c904f8ec-b8bc-420d-8fff-5890982e4274",
   "metadata": {},
   "source": [
    "### Create Client"
   ]
  },
  {
   "cell_type": "code",
   "execution_count": 66,
   "id": "cf379b27-a5f3-4748-9ae5-a67f128eb963",
   "metadata": {},
   "outputs": [],
   "source": [
    "\n",
    "from openai import OpenAI\n",
    "\n",
    "# Define Model\n",
    "model=\"gpt-4o-mini\"\n",
    "\n",
    "#define client\n",
    "client = OpenAI(api_key=OPEN_API_KEY)"
   ]
  },
  {
   "cell_type": "markdown",
   "id": "bbe2be04-e10a-4bc3-bfe5-ec30fdc5ac1b",
   "metadata": {},
   "source": [
    "## Application"
   ]
  },
  {
   "cell_type": "code",
   "execution_count": 67,
   "id": "d559a546-4729-4f5f-b982-8329cf0ac8cd",
   "metadata": {},
   "outputs": [],
   "source": [
    "# !pip install yahooquery"
   ]
  },
  {
   "cell_type": "code",
   "execution_count": 68,
   "id": "e97e5479-8088-4b5e-8b5b-952059d4488c",
   "metadata": {},
   "outputs": [],
   "source": [
    "from yahooquery import Ticker"
   ]
  },
  {
   "cell_type": "code",
   "execution_count": 69,
   "id": "6600e8e0-4388-43a2-8474-0a6d1bfd9bcb",
   "metadata": {},
   "outputs": [],
   "source": [
    "# user_prompt1=\"What is the stock price of TSLA today?\"\n",
    "# # user_prompt1=\"What is the stock news of TSLA today?\"\n",
    "# # user_prompt1=\"What is the stock price and news of TSLA today?\"\n",
    "\n",
    "# response=client.chat.completions.create(model=model,\n",
    "#                               messages=[{\"role\":\"user\",\"content\":user_prompt1}\n",
    "#                                        ]\n",
    "#                               )\n",
    "\n",
    "# print(response.choices[0].message.content)"
   ]
  },
  {
   "cell_type": "markdown",
   "id": "0df36f51-97fe-450f-8961-1333bf22036c",
   "metadata": {},
   "source": [
    "## Define Functions/Tools"
   ]
  },
  {
   "cell_type": "markdown",
   "id": "0b8a37eb-3468-4ef6-b187-5b8e118fb746",
   "metadata": {},
   "source": [
    "### Get Stock Price"
   ]
  },
  {
   "cell_type": "code",
   "execution_count": 70,
   "id": "dd5ed949-a9fb-4854-8ee4-acfa77b9197d",
   "metadata": {},
   "outputs": [],
   "source": [
    "def get_stock_price(ticker):\n",
    "    try:\n",
    "        # Create a Ticker object for the provided ticker symbol\n",
    "        t = Ticker(ticker)\n",
    "        # Retrieve the price data\n",
    "        price_data = t.price\n",
    "        # Check if we received valid data for the ticker\n",
    "        if ticker in price_data and price_data[ticker].get(\"regularMarketPrice\") is not None:\n",
    "            price = price_data[ticker][\"regularMarketPrice\"]\n",
    "        else:\n",
    "            return f\"Price information for {ticker} is unavailable.\"\n",
    "    except Exception as e:\n",
    "        return f\"Failed to retrieve data for {ticker}: {str(e)}\"\n",
    "    \n",
    "    return f\"{ticker} is currently trading at ${price:.2f}\""
   ]
  },
  {
   "cell_type": "code",
   "execution_count": 71,
   "id": "088f7552-1322-4842-af6b-ce2ea914bf94",
   "metadata": {},
   "outputs": [
    {
     "data": {
      "text/plain": [
       "'TSLA is currently trading at $342.69'"
      ]
     },
     "execution_count": 71,
     "metadata": {},
     "output_type": "execute_result"
    }
   ],
   "source": [
    "get_stock_price(\"TSLA\")"
   ]
  },
  {
   "cell_type": "markdown",
   "id": "1e3bc6c1-b060-4d00-9a52-dc91e3f1b3b9",
   "metadata": {},
   "source": [
    "### Get Stock News"
   ]
  },
  {
   "cell_type": "code",
   "execution_count": 72,
   "id": "b6110754-cf39-42e6-b68f-629873f32a42",
   "metadata": {},
   "outputs": [],
   "source": [
    "# !pip install feedparser -q"
   ]
  },
  {
   "cell_type": "code",
   "execution_count": 73,
   "id": "5cd95bdb-305f-488b-b413-bb01915667f3",
   "metadata": {},
   "outputs": [
    {
     "data": {
      "text/plain": [
       "\"Latest news for TSLA:\\nCathie Wood Just Sold Tesla Stock In May But Is She Going Away With The Robotaxi Launch Approaching? - Investor's Business Daily (https://news.google.com/rss/articles/CBMipgFBVV95cUxQN1FsMF9TNE82dWJ6Qy1vaWpHUWN4VEhaRnlNQWx0eGZaT1BvUzZKWUt0Y0hmYjUtXzVXRGtuN0tlal9XcmdoYVk4dzRXT1lES2gwbDh0VG1QaTVrcnhuMWRJbjNpTmRKWEZmVmRqMWlCbkw1eHk1Y25OcHo2czQxZW9GZUJwR3ZCWjZsX1lnZWhBY19WUWs5TGRLUHIxbFlwT0ROdnBR?oc=5)\\nWall Street Analysts Clash over Tesla Stock (TSLA) as Robotaxi Launch Nears - TipRanks (https://news.google.com/rss/articles/CBMipgFBVV95cUxNaENRdHJnOUVIcW1KYktmQ3Foc0xmWFNNdlQwVml2eGVOVEFjdUMzaGdfbDBQVXZJN04wSWlORkszdUxyN25XWk41UlR6SlRTYm5RUmJoRUl2ekJSMi1pR0RLUGNHUVNybWJiRkVCNi1hb053YVdQd1R1c2h4cWhDSFJwNkFjNUVRNFI0WEU5bk9kOWY3WTU4UllleDhjcWt4R1dPM25R?oc=5)\\nTesla Robotaxi Nearing Launch: Buy, Hold or Sell the Stock Now? - Yahoo Finance (https://news.google.com/rss/articles/CBMihgFBVV95cUxOeEtZanQxdUZxdHVXYzV4VlJFLVc0NU1GRlhVRnBJc3NSMTdwNGwtZ2pLaEY1c1NMNkkyb1JTUUpiRkV2T1VSUU5McG90Zy0tMVR4TFc2RFdES0RqQWZvN1BWUDFwZGV1MTNyUTBqYXppZjN2bnVYNmwtdGZxMjZpWlVtWXdTZw?oc=5)\""
      ]
     },
     "execution_count": 73,
     "metadata": {},
     "output_type": "execute_result"
    }
   ],
   "source": [
    "ticker=\"TSLA\"\n",
    "import feedparser\n",
    "\n",
    "def get_stock_news(ticker):\n",
    "    # Construct the RSS feed URL for the given ticker.\n",
    "    rss_url = f\"https://news.google.com/rss/search?q={ticker}+stock\"\n",
    "    try:\n",
    "        feed = feedparser.parse(rss_url)\n",
    "        if not feed.entries:\n",
    "            return f\"No news found for {ticker}.\"\n",
    "        # Extract the top 3 news items (title and link)\n",
    "        news_items = []\n",
    "        for entry in feed.entries[:3]:\n",
    "            title = entry.get(\"title\", \"No Title\")\n",
    "            link = entry.get(\"link\", \"No Link\")\n",
    "            news_items.append(f\"{title} ({link})\")\n",
    "        news_str = \"\\n\".join(news_items)\n",
    "    except Exception as e:\n",
    "        return f\"Failed to retrieve news for {ticker}: {str(e)}\"\n",
    "    \n",
    "    return f\"Latest news for {ticker}:\\n{news_str}\"\n",
    "get_stock_news(\"TSLA\")"
   ]
  },
  {
   "cell_type": "markdown",
   "id": "d6617ce2-04b8-41e8-b2ea-2284b8b3509d",
   "metadata": {},
   "source": [
    "## Tool Definition"
   ]
  },
  {
   "cell_type": "code",
   "execution_count": 74,
   "id": "046e289f-2667-4ceb-92bb-5d835bcf4130",
   "metadata": {},
   "outputs": [],
   "source": [
    "tools = [\n",
    "    {\n",
    "        \"type\": \"function\",\n",
    "        \"function\": {\n",
    "            \"name\": \"get_stock_price\",\n",
    "            \"description\": \"Get current stock price for a provided ticker symbol using yahooquery.\",\n",
    "            \"parameters\": {\n",
    "                \"type\": \"object\",\n",
    "                \"properties\": {\n",
    "                    \"ticker\": {\"type\": \"string\"}\n",
    "                },\n",
    "                \"required\": [\"ticker\"],\n",
    "                \"additionalProperties\": False\n",
    "            },\n",
    "            \"strict\": True\n",
    "        }\n",
    "    },\n",
    "    {\n",
    "        \"type\": \"function\",\n",
    "        \"function\": {\n",
    "            \"name\": \"get_stock_news\",\n",
    "            \"description\": \"Get the latest news for a provided ticker symbol by parsing the Google News RSS feed using feedparser.\",\n",
    "            \"parameters\": {\n",
    "                \"type\": \"object\",\n",
    "                \"properties\": {\n",
    "                    \"ticker\": {\"type\": \"string\"}\n",
    "                },\n",
    "                \"required\": [\"ticker\"],\n",
    "                \"additionalProperties\": False\n",
    "            },\n",
    "            \"strict\": True\n",
    "        }\n",
    "    }\n",
    "]"
   ]
  },
  {
   "cell_type": "code",
   "execution_count": 75,
   "id": "b93329c4-8bd8-4534-b378-c876967a7f5d",
   "metadata": {},
   "outputs": [],
   "source": [
    "# user_prompt1=\"What is the stock price of TSLA today?\"\n",
    "# user_prompt1=\"What is the stock news of TSLA in India today?\"\n",
    "user_prompt1=\"What is the stock price and news of TSLA today?\"\n",
    "messages=[{\"role\":\"user\",\"content\":user_prompt1}]                  \n",
    "response=client.chat.completions.create(model=model,\n",
    "                              messages=messages,\n",
    "                              tools=tools\n",
    "                              )\n",
    "\n"
   ]
  },
  {
   "cell_type": "code",
   "execution_count": 76,
   "id": "c8569972-d358-4bda-bcff-4fd487e01c8a",
   "metadata": {},
   "outputs": [
    {
     "data": {
      "text/plain": [
       "ChatCompletionMessage(content=None, refusal=None, role='assistant', annotations=[], audio=None, function_call=None, tool_calls=[ChatCompletionMessageToolCall(id='call_ROdLjNpWCmiRin85iwPkLCnN', function=Function(arguments='{\"ticker\": \"TSLA\"}', name='get_stock_price'), type='function'), ChatCompletionMessageToolCall(id='call_2bH4Jdx73MKFoBKE3zpQrhA0', function=Function(arguments='{\"ticker\": \"TSLA\"}', name='get_stock_news'), type='function')])"
      ]
     },
     "execution_count": 76,
     "metadata": {},
     "output_type": "execute_result"
    }
   ],
   "source": [
    "assistant_msg =response.choices[0].message\n",
    "assistant_msg"
   ]
  },
  {
   "cell_type": "code",
   "execution_count": 77,
   "id": "e5566ce6-68bb-4d68-8d1e-bb2500086d83",
   "metadata": {},
   "outputs": [],
   "source": [
    "tool_calls=assistant_msg.tool_calls\n",
    "if tool_calls:\n",
    "    messages.append({\"role\":\"assistant\",\"tool_calls\":[tc.model_dump() for tc in tool_calls]})\n",
    "# messages"
   ]
  },
  {
   "cell_type": "code",
   "execution_count": 78,
   "id": "62216e63-af77-4cf6-abcd-d67982b996c4",
   "metadata": {},
   "outputs": [],
   "source": [
    "for tool_call in tool_calls:\n",
    "    func_name = tool_call.function.name\n",
    "    args = json.loads(tool_call.function.arguments)\n",
    "\n",
    "    if func_name == \"get_stock_price\":\n",
    "        result = get_stock_price(args[\"ticker\"])\n",
    "    elif func_name == \"get_stock_news\":\n",
    "        result = get_stock_news(args[\"ticker\"])\n",
    "    else:\n",
    "        result = \"Unknown function\"\n",
    "\n",
    "    # Step 3: Append tool result\n",
    "    messages.append({\n",
    "        \"role\": \"tool\",\n",
    "        \"tool_call_id\": tool_call.id,\n",
    "        \"content\": json.dumps(result)\n",
    "    })"
   ]
  },
  {
   "cell_type": "code",
   "execution_count": 79,
   "id": "67e4e1e8-9a55-4dba-b79c-60e409703151",
   "metadata": {},
   "outputs": [
    {
     "data": {
      "text/plain": [
       "[{'role': 'user',\n",
       "  'content': 'What is the stock price and news of TSLA today?'},\n",
       " {'role': 'assistant',\n",
       "  'tool_calls': [{'id': 'call_ROdLjNpWCmiRin85iwPkLCnN',\n",
       "    'function': {'arguments': '{\"ticker\": \"TSLA\"}', 'name': 'get_stock_price'},\n",
       "    'type': 'function'},\n",
       "   {'id': 'call_2bH4Jdx73MKFoBKE3zpQrhA0',\n",
       "    'function': {'arguments': '{\"ticker\": \"TSLA\"}', 'name': 'get_stock_news'},\n",
       "    'type': 'function'}]},\n",
       " {'role': 'tool',\n",
       "  'tool_call_id': 'call_ROdLjNpWCmiRin85iwPkLCnN',\n",
       "  'content': '\"TSLA is currently trading at $342.69\"'},\n",
       " {'role': 'tool',\n",
       "  'tool_call_id': 'call_2bH4Jdx73MKFoBKE3zpQrhA0',\n",
       "  'content': '\"Latest news for TSLA:\\\\nCathie Wood Just Sold Tesla Stock In May But Is She Going Away With The Robotaxi Launch Approaching? - Investor\\'s Business Daily (https://news.google.com/rss/articles/CBMipgFBVV95cUxQN1FsMF9TNE82dWJ6Qy1vaWpHUWN4VEhaRnlNQWx0eGZaT1BvUzZKWUt0Y0hmYjUtXzVXRGtuN0tlal9XcmdoYVk4dzRXT1lES2gwbDh0VG1QaTVrcnhuMWRJbjNpTmRKWEZmVmRqMWlCbkw1eHk1Y25OcHo2czQxZW9GZUJwR3ZCWjZsX1lnZWhBY19WUWs5TGRLUHIxbFlwT0ROdnBR?oc=5)\\\\nWall Street Analysts Clash over Tesla Stock (TSLA) as Robotaxi Launch Nears - TipRanks (https://news.google.com/rss/articles/CBMipgFBVV95cUxNaENRdHJnOUVIcW1KYktmQ3Foc0xmWFNNdlQwVml2eGVOVEFjdUMzaGdfbDBQVXZJN04wSWlORkszdUxyN25XWk41UlR6SlRTYm5RUmJoRUl2ekJSMi1pR0RLUGNHUVNybWJiRkVCNi1hb053YVdQd1R1c2h4cWhDSFJwNkFjNUVRNFI0WEU5bk9kOWY3WTU4UllleDhjcWt4R1dPM25R?oc=5)\\\\nTesla Robotaxi Nearing Launch: Buy, Hold or Sell the Stock Now? - Yahoo Finance (https://news.google.com/rss/articles/CBMihgFBVV95cUxOeEtZanQxdUZxdHVXYzV4VlJFLVc0NU1GRlhVRnBJc3NSMTdwNGwtZ2pLaEY1c1NMNkkyb1JTUUpiRkV2T1VSUU5McG90Zy0tMVR4TFc2RFdES0RqQWZvN1BWUDFwZGV1MTNyUTBqYXppZjN2bnVYNmwtdGZxMjZpWlVtWXdTZw?oc=5)\"'}]"
      ]
     },
     "execution_count": 79,
     "metadata": {},
     "output_type": "execute_result"
    }
   ],
   "source": [
    "messages"
   ]
  },
  {
   "cell_type": "code",
   "execution_count": 82,
   "id": "b5cfdd36-46a9-407a-a818-72c7e0fcef7e",
   "metadata": {},
   "outputs": [
    {
     "data": {
      "text/plain": [
       "ChatCompletion(id='chatcmpl-BeEhAgIxxNpozMHKocP9oUux7Psqi', choices=[Choice(finish_reason='stop', index=0, logprobs=None, message=ChatCompletionMessage(content=\"As of today, the stock price of Tesla (TSLA) is **$342.69**.\\n\\n### Latest News:\\n1. **Cathie Wood Just Sold Tesla Stock In May** - Investor's Business Daily discusses whether she is distancing herself as the robotaxi launch approaches. [Read more](https://news.google.com/rss/articles/CBMipgFBVV95cUxQN1FsMF9TNE82dWJ6Qy1vaWpHUWN4VEhaRnlNQWx0eGZaT1BvUzZKWUt0Y0hmYjUtXzVXRGtuN0tlal9XcmdoYVk4dzRXT1lES2gwbDh0VG1QaTVrcnhuMWRJbjNpTmRKWEZmVmRqMWlCbkw1eHk1Y25OcHo2czQxZW9GZUJwR3ZCWjZsX1lnZWhBY19WUWs5TGRLUHIxbFlwT0ROdnBR?oc=5)\\n  \\n2. **Wall Street Analysts Clash over Tesla Stock (TSLA)** - TipRanks reports on divisions among analysts as the robotaxi launch approaches. [Read more](https://news.google.com/rss/articles/CBMipgFBVV95cUxNaENRdHJnOUVIcW1KYktmQ3Foc0xmWFNNdlQwVml2eGVOVEFjdUMzaGdfbDBQVXZJN04wSWlORkszdUxyN25XWk41UlR6SlRTYm5RUmJoRUl2ekJSMi1pR0RLUGNHUVNybWJiRkVCNi1hb053YVdQd1R1c2h4cWhDSFJwNkFjNUVRNFI0WEU5bk9kOWY3WTU4UllleDhjcWt4R1dPM25R?oc=5)\\n\\n3. **Tesla Robotaxi Nearing Launch: Buy, Hold or Sell the Stock Now?** - Yahoo Finance explores strategies around Tesla's upcoming robotaxi services. [Read more](https://news.google.com/rss/articles/CBMihgFBVV95cUxOeEtZanQxdUZxdHVXYzV4VlJFLVc0NU1GRlhVRnBJc3NSMTdwNGwtZ2pLaEY1c1NMNkkyb1JTUUpiRkV2T1VSUU5McG90Zy0tMVR4TFc2RFdES0RqQWZvN1BWUDFwZGV1MTNyUTBqYXppZjN2bnVYNmwtdGZxMjZpWlVtWXdTZw?oc=5) \\n\\nIf you need more detailed information or analysis on any specific topic, feel free to ask!\", refusal=None, role='assistant', annotations=[], audio=None, function_call=None, tool_calls=None))], created=1748929308, model='gpt-4o-mini-2024-07-18', object='chat.completion', service_tier='default', system_fingerprint='fp_34a54ae93c', usage=CompletionUsage(completion_tokens=617, prompt_tokens=636, total_tokens=1253, completion_tokens_details=CompletionTokensDetails(accepted_prediction_tokens=0, audio_tokens=0, reasoning_tokens=0, rejected_prediction_tokens=0), prompt_tokens_details=PromptTokensDetails(audio_tokens=0, cached_tokens=0)))"
      ]
     },
     "execution_count": 82,
     "metadata": {},
     "output_type": "execute_result"
    }
   ],
   "source": [
    "final_response = client.chat.completions.create(\n",
    "    model=model,\n",
    "    messages=messages,\n",
    ")\n",
    "final_response"
   ]
  },
  {
   "cell_type": "code",
   "execution_count": 83,
   "id": "3913cdb2-ceb5-4556-997f-d56c91761a35",
   "metadata": {},
   "outputs": [
    {
     "data": {
      "text/markdown": [
       "As of today, the stock price of Tesla (TSLA) is **$342.69**.\n",
       "\n",
       "### Latest News:\n",
       "1. **Cathie Wood Just Sold Tesla Stock In May** - Investor's Business Daily discusses whether she is distancing herself as the robotaxi launch approaches. [Read more](https://news.google.com/rss/articles/CBMipgFBVV95cUxQN1FsMF9TNE82dWJ6Qy1vaWpHUWN4VEhaRnlNQWx0eGZaT1BvUzZKWUt0Y0hmYjUtXzVXRGtuN0tlal9XcmdoYVk4dzRXT1lES2gwbDh0VG1QaTVrcnhuMWRJbjNpTmRKWEZmVmRqMWlCbkw1eHk1Y25OcHo2czQxZW9GZUJwR3ZCWjZsX1lnZWhBY19WUWs5TGRLUHIxbFlwT0ROdnBR?oc=5)\n",
       "  \n",
       "2. **Wall Street Analysts Clash over Tesla Stock (TSLA)** - TipRanks reports on divisions among analysts as the robotaxi launch approaches. [Read more](https://news.google.com/rss/articles/CBMipgFBVV95cUxNaENRdHJnOUVIcW1KYktmQ3Foc0xmWFNNdlQwVml2eGVOVEFjdUMzaGdfbDBQVXZJN04wSWlORkszdUxyN25XWk41UlR6SlRTYm5RUmJoRUl2ekJSMi1pR0RLUGNHUVNybWJiRkVCNi1hb053YVdQd1R1c2h4cWhDSFJwNkFjNUVRNFI0WEU5bk9kOWY3WTU4UllleDhjcWt4R1dPM25R?oc=5)\n",
       "\n",
       "3. **Tesla Robotaxi Nearing Launch: Buy, Hold or Sell the Stock Now?** - Yahoo Finance explores strategies around Tesla's upcoming robotaxi services. [Read more](https://news.google.com/rss/articles/CBMihgFBVV95cUxOeEtZanQxdUZxdHVXYzV4VlJFLVc0NU1GRlhVRnBJc3NSMTdwNGwtZ2pLaEY1c1NMNkkyb1JTUUpiRkV2T1VSUU5McG90Zy0tMVR4TFc2RFdES0RqQWZvN1BWUDFwZGV1MTNyUTBqYXppZjN2bnVYNmwtdGZxMjZpWlVtWXdTZw?oc=5) \n",
       "\n",
       "If you need more detailed information or analysis on any specific topic, feel free to ask!"
      ],
      "text/plain": [
       "<IPython.core.display.Markdown object>"
      ]
     },
     "execution_count": 83,
     "metadata": {},
     "output_type": "execute_result"
    }
   ],
   "source": [
    "from IPython.display import display, Markdown\n",
    "Markdown(final_response.choices[0].message.content)"
   ]
  }
 ],
 "metadata": {
  "kernelspec": {
   "display_name": "Python 3 (ipykernel)",
   "language": "python",
   "name": "python3"
  },
  "language_info": {
   "codemirror_mode": {
    "name": "ipython",
    "version": 3
   },
   "file_extension": ".py",
   "mimetype": "text/x-python",
   "name": "python",
   "nbconvert_exporter": "python",
   "pygments_lexer": "ipython3",
   "version": "3.12.7"
  }
 },
 "nbformat": 4,
 "nbformat_minor": 5
}
