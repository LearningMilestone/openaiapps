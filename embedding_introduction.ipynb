{
 "cells": [
  {
   "cell_type": "markdown",
   "id": "5ee2d6f7-74b4-4634-93ef-de43c85f06ff",
   "metadata": {},
   "source": [
    "<h1><center>Introduction To Embeddings in OpenAI</center></h1>\n",
    "<h2><center>Learn Concept</center></h2>\n",
    "<h3><center>Build AI Apps - Beginner Level</center></h3>"
   ]
  },
  {
   "cell_type": "markdown",
   "id": "1f4aa4c6-d068-41f8-9c4c-d1d68b09b39c",
   "metadata": {},
   "source": [
    "## Before you start\n",
    "\n",
    "In order to complete the project you will need to create a developer account with OpenAI and store your API key as an environment variable. Instructions for these steps are outlined below.\n",
    "\n",
    "### Create a developer account with OpenAI\n",
    "\n",
    "1. Go to the [API signup page](https://platform.openai.com/signup). \n",
    "\n",
    "2. Create your account (you'll need to provide your email address and your phone number).\n",
    "\n",
    "3. Go to the [API keys page](https://platform.openai.com/account/api-keys). \n",
    "\n",
    "4. Create a new secret key.\n",
    "\n",
    "\n",
    "5. **Take a copy of it**. (If you lose it, delete the key and create a new one.)"
   ]
  },
  {
   "cell_type": "markdown",
   "id": "8a2df415-d22d-466e-9d96-12698c267997",
   "metadata": {},
   "source": [
    "### Add a payment method\n",
    "\n",
    "OpenAI sometimes provides free credits for the API, but this can vary based on geography. You may need to add debit/credit card details. \n",
    "\n",
    "**Using the `gpt-3.5-turbo` model in this project should incur a cost less than 1 US cent (but if you rerun tasks, you will be charged every time).** For more information on pricing, see [OpenAI's pricing page](https://openai.com/pricing).\n",
    "\n",
    "1. Go to the [Payment Methods page](https://platform.openai.com/account/billing/payment-methods).\n",
    "\n",
    "2. Click Add payment method.\n",
    "\n",
    "3. Fill in your card details."
   ]
  },
  {
   "cell_type": "markdown",
   "id": "cb423d95-5cd7-4632-a79c-728821d7393b",
   "metadata": {},
   "source": [
    "### Install open ai library"
   ]
  },
  {
   "cell_type": "code",
   "execution_count": 1,
   "id": "ab70fec0-93f4-4d5b-b1d2-21b99ddab27c",
   "metadata": {},
   "outputs": [],
   "source": [
    "# !pip install openai"
   ]
  },
  {
   "cell_type": "markdown",
   "id": "152fe86f-3844-4fe0-b6be-c681e47ec660",
   "metadata": {},
   "source": [
    "### Load Open AI Key"
   ]
  },
  {
   "cell_type": "code",
   "execution_count": 4,
   "id": "53a81d10-ae21-46cb-9cfb-bda2e82afa9b",
   "metadata": {},
   "outputs": [
    {
     "name": "stdout",
     "output_type": "stream",
     "text": [
      "C:\\Users\\agaan\\openaiapps\\.env\n"
     ]
    }
   ],
   "source": [
    "import os\n",
    "from dotenv import load_dotenv, find_dotenv\n",
    "_ = load_dotenv(find_dotenv()) # read local .env file\n",
    "print(find_dotenv())\n",
    "\n",
    "OPEN_API_KEY=os.getenv('OPENAI_API_KEY')\n",
    "\n",
    "# print(OPEN_API_KEY)\n"
   ]
  },
  {
   "cell_type": "markdown",
   "id": "c904f8ec-b8bc-420d-8fff-5890982e4274",
   "metadata": {},
   "source": [
    "### Create Client"
   ]
  },
  {
   "cell_type": "code",
   "execution_count": 5,
   "id": "cf379b27-a5f3-4748-9ae5-a67f128eb963",
   "metadata": {
    "jupyter": {
     "source_hidden": true
    }
   },
   "outputs": [],
   "source": [
    "\n",
    "from openai import OpenAI\n",
    "\n",
    "# Define Model\n",
    "# model=\"gpt-4o-mini\"\n",
    "emb_model=\"text-embedding-3-small\"\n",
    "\n",
    "#define client\n",
    "client = OpenAI(api_key=OPEN_API_KEY)"
   ]
  },
  {
   "cell_type": "markdown",
   "id": "bbe2be04-e10a-4bc3-bfe5-ec30fdc5ac1b",
   "metadata": {},
   "source": [
    "## What is an Embedding"
   ]
  },
  {
   "cell_type": "code",
   "execution_count": 7,
   "id": "e738301b-1feb-4aeb-9cad-1cb39186c25d",
   "metadata": {},
   "outputs": [],
   "source": [
    "response=client.embeddings.create(model=emb_model,input=\"pizza\")"
   ]
  },
  {
   "cell_type": "code",
   "execution_count": 10,
   "id": "4cbb5643-2b27-4f53-9966-54f2bca20573",
   "metadata": {},
   "outputs": [
    {
     "data": {
      "text/plain": [
       "1536"
      ]
     },
     "execution_count": 10,
     "metadata": {},
     "output_type": "execute_result"
    }
   ],
   "source": [
    "len(response.data[0].embedding)"
   ]
  },
  {
   "cell_type": "markdown",
   "id": "9e0a5a8e-c550-4d7e-ae6d-bca657af1f65",
   "metadata": {},
   "source": [
    "## Creating embedding of 4 different words and represent them in vector space"
   ]
  },
  {
   "cell_type": "code",
   "execution_count": 11,
   "id": "bceae08c-dc32-4e42-ba4a-97a2942a75f2",
   "metadata": {},
   "outputs": [],
   "source": [
    "words=[\"apple\",\"banana\",\"pizza\",\"shoe\"]"
   ]
  },
  {
   "cell_type": "code",
   "execution_count": 12,
   "id": "fec3bc41-bf22-4336-8cef-0fe53bf6eab6",
   "metadata": {},
   "outputs": [
    {
     "name": "stdout",
     "output_type": "stream",
     "text": [
      "1536\n",
      "1536\n",
      "1536\n",
      "1536\n"
     ]
    }
   ],
   "source": [
    "embeddings=[]\n",
    "for word in words:\n",
    "    response=client.embeddings.create(model=emb_model,input=word)\n",
    "    embedding=response.data[0].embedding\n",
    "    embeddings.append(embedding)\n",
    "    print(len(embedding))"
   ]
  },
  {
   "cell_type": "markdown",
   "id": "3e4f7bdb-7f29-459b-a0d7-3aec0ed4bc8b",
   "metadata": {},
   "source": [
    "### Dimensionality Reduction To Visualize Embeddings"
   ]
  },
  {
   "cell_type": "code",
   "execution_count": 15,
   "id": "9cc42258-92e0-44da-bf8c-d172c8e1fb04",
   "metadata": {},
   "outputs": [],
   "source": [
    "from sklearn.decomposition import PCA\n",
    "\n",
    "pca=PCA(n_components=2)\n",
    "reduced_embeddings=pca.fit_transform(embeddings)"
   ]
  },
  {
   "cell_type": "code",
   "execution_count": 18,
   "id": "c4350709-9851-4222-95e1-760b6c593d20",
   "metadata": {},
   "outputs": [
    {
     "data": {
      "image/png": "[encoded data removed]",
      "text/plain": [
       "<Figure size 800x600 with 1 Axes>"
      ]
     },
     "metadata": {},
     "output_type": "display_data"
    }
   ],
   "source": [
    "import matplotlib.pyplot as plt\n",
    "plt.figure(figsize=(8,6))\n",
    "\n",
    "for i,word in enumerate(words):\n",
    "    x,y=reduced_embeddings[i]\n",
    "    plt.scatter(x,y)\n",
    "    plt.text(x,y,word,fontsize=12)"
   ]
  },
  {
   "cell_type": "markdown",
   "id": "85643640-14bd-4593-98d9-9613a3ccd57e",
   "metadata": {},
   "source": [
    "## Understand Context"
   ]
  },
  {
   "cell_type": "code",
   "execution_count": 20,
   "id": "43474983-003d-4ea4-b864-af1ace94d494",
   "metadata": {},
   "outputs": [],
   "source": [
    "# Define your sentences\n",
    "sentences = [\n",
    "    \"Where can I buy running shoes for kids?\",                         # related\n",
    "    \"Affordable running shoes for boys and girls\",                     # related\n",
    "    \"Where Can you find Plants Nursery?\",           # related\n",
    "    \"What is the capital of India?\",                               # unrelated\n",
    "    \"Photosynthesis helps in creating food in plants?\"                          # unrelated\n",
    "]"
   ]
  },
  {
   "cell_type": "code",
   "execution_count": 21,
   "id": "53f3b243-81c5-4538-a437-3be8a52b9af4",
   "metadata": {},
   "outputs": [
    {
     "name": "stdout",
     "output_type": "stream",
     "text": [
      "1536\n",
      "1536\n",
      "1536\n",
      "1536\n",
      "1536\n"
     ]
    },
    {
     "data": {
      "image/png": "[encoded data removed]",
      "text/plain": [
       "<Figure size 800x600 with 1 Axes>"
      ]
     },
     "metadata": {},
     "output_type": "display_data"
    }
   ],
   "source": [
    "\n",
    "# Get embeddings\n",
    "embeddings = []\n",
    "for sentence in sentences:\n",
    "    response = client.embeddings.create(\n",
    "        model=\"text-embedding-3-small\",\n",
    "        input=sentence\n",
    "    )\n",
    "    embedding = response.data[0].embedding\n",
    "    print(len(embedding))\n",
    "    embeddings.append(embedding)\n",
    "\n",
    "# Reduce dimensionality to 2D\n",
    "pca = PCA(n_components=2)\n",
    "reduced_embeddings = pca.fit_transform(embeddings)\n",
    "\n",
    "# Plotting\n",
    "plt.figure(figsize=(8, 6))\n",
    "for i, sentence in enumerate(sentences):\n",
    "    x, y = reduced_embeddings[i]\n",
    "    plt.scatter(x, y)\n",
    "    plt.text(x + 0.01, y + 0.01, sentence, fontsize=10)\n",
    "\n",
    "plt.title(\"Sentence Embeddings in 2D Space (via PCA)\")\n",
    "plt.xlabel(\"PCA Component 1\")\n",
    "plt.ylabel(\"PCA Component 2\")\n",
    "plt.grid(True)\n",
    "plt.show()\n"
   ]
  },
  {
   "cell_type": "markdown",
   "id": "1239350a-de73-4ada-bded-3f55d0d69fb9",
   "metadata": {},
   "source": [
    "## Simillarity Measure"
   ]
  },
  {
   "cell_type": "code",
   "execution_count": null,
   "id": "2a51a463-f43b-430c-a627-91f1b395bd61",
   "metadata": {},
   "outputs": [],
   "source": [
    "\n"
   ]
  },
  {
   "cell_type": "code",
   "execution_count": null,
   "id": "18cb0833-3323-4e1a-b6cd-151c99ac0ccf",
   "metadata": {},
   "outputs": [],
   "source": []
  },
  {
   "cell_type": "code",
   "execution_count": 30,
   "id": "87270732-d29f-472e-ad82-de4fb9fa9c8b",
   "metadata": {},
   "outputs": [],
   "source": [
    "import numpy as np\n",
    "from numpy.linalg import norm"
   ]
  },
  {
   "cell_type": "code",
   "execution_count": 35,
   "id": "bf8cc4cc-e4d8-4eae-972c-ee2167fa14c2",
   "metadata": {},
   "outputs": [],
   "source": [
    "def cosine_similarity(vec1,vec2):\n",
    "    return np.dot(vec1,vec2)/(norm(vec1)*norm(vec2))"
   ]
  },
  {
   "cell_type": "code",
   "execution_count": null,
   "id": "326ded6d-bd32-4411-af54-38290dcf6ea2",
   "metadata": {},
   "outputs": [],
   "source": [
    "search_text = \"beautiful plants for shopping\""
   ]
  },
  {
   "cell_type": "code",
   "execution_count": 39,
   "id": "0fc6593a-c214-4c75-b92e-03b4e6141bde",
   "metadata": {},
   "outputs": [],
   "source": [
    "response = client.embeddings.create(\n",
    "        model=\"text-embedding-3-small\",\n",
    "        input=search_text\n",
    "    )\n",
    "search_embedding=response.data[0].embedding"
   ]
  },
  {
   "cell_type": "code",
   "execution_count": 42,
   "id": "2b7b65e7-e262-4022-8efc-8b40195a890b",
   "metadata": {},
   "outputs": [
    {
     "data": {
      "text/plain": [
       "[('Where can I buy running shoes for kids?', 0.20363214467304083),\n",
       " ('Affordable running shoes for boys and girls', 0.24836348304804412),\n",
       " ('Where Can you find Plants Nursery?', 0.505675787950161),\n",
       " ('What is the capital of India?', 0.04290699739412483),\n",
       " ('Photosynthesis helps in creating food in plants?', 0.22188525939626128)]"
      ]
     },
     "execution_count": 42,
     "metadata": {},
     "output_type": "execute_result"
    }
   ],
   "source": [
    "\n",
    "similarities=[]\n",
    "for i,sent_embedding in enumerate(embeddings):\n",
    "    similarity=cosine_similarity(search_embedding,sent_embedding)\n",
    "    similarities.append((sentences[i],similarity))\n",
    "similarities"
   ]
  },
  {
   "cell_type": "code",
   "execution_count": 43,
   "id": "93c63b9c-e149-4e66-b6e3-cf45d807e387",
   "metadata": {},
   "outputs": [
    {
     "name": "stdout",
     "output_type": "stream",
     "text": [
      "\n",
      "🔝 Top Match:\n",
      "Score: 0.5057 | Sentence: Where Can you find Plants Nursery?\n"
     ]
    }
   ],
   "source": [
    "# Sort by similarity score in descending order\n",
    "similarities.sort(key=lambda x: x[1], reverse=True)\n",
    "top_match = similarities[0]\n",
    "print(f\"\\n🔝 Top Match:\\nScore: {top_match[1]:.4f} | Sentence: {top_match[0]}\")\n"
   ]
  }
 ],
 "metadata": {
  "kernelspec": {
   "display_name": "Python 3 (ipykernel)",
   "language": "python",
   "name": "python3"
  },
  "language_info": {
   "codemirror_mode": {
    "name": "ipython",
    "version": 3
   },
   "file_extension": ".py",
   "mimetype": "text/x-python",
   "name": "python",
   "nbconvert_exporter": "python",
   "pygments_lexer": "ipython3",
   "version": "3.12.7"
  }
 },
 "nbformat": 4,
 "nbformat_minor": 5
}
