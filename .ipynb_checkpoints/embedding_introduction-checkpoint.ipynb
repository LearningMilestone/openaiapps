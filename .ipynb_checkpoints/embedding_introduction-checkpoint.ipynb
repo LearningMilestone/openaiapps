{
 "cells": [
  {
   "cell_type": "markdown",
   "id": "5ee2d6f7-74b4-4634-93ef-de43c85f06ff",
   "metadata": {},
   "source": [
    "<h1><center>Introduction To OPEN AI API</center></h1>\n",
    "<h2><center>Make Your First Call</center></h2>\n",
    "<h3><center>Build AI Apps - Beginner Level</center></h3>"
   ]
  },
  {
   "cell_type": "markdown",
   "id": "1f4aa4c6-d068-41f8-9c4c-d1d68b09b39c",
   "metadata": {},
   "source": [
    "## Before you start\n",
    "\n",
    "In order to complete the project you will need to create a developer account with OpenAI and store your API key as an environment variable. Instructions for these steps are outlined below.\n",
    "\n",
    "### Create a developer account with OpenAI\n",
    "\n",
    "1. Go to the [API signup page](https://platform.openai.com/signup). \n",
    "\n",
    "2. Create your account (you'll need to provide your email address and your phone number).\n",
    "\n",
    "3. Go to the [API keys page](https://platform.openai.com/account/api-keys). \n",
    "\n",
    "4. Create a new secret key.\n",
    "\n",
    "\n",
    "5. **Take a copy of it**. (If you lose it, delete the key and create a new one.)"
   ]
  },
  {
   "cell_type": "markdown",
   "id": "8a2df415-d22d-466e-9d96-12698c267997",
   "metadata": {},
   "source": [
    "### Add a payment method\n",
    "\n",
    "OpenAI sometimes provides free credits for the API, but this can vary based on geography. You may need to add debit/credit card details. \n",
    "\n",
    "**Using the `gpt-3.5-turbo` model in this project should incur a cost less than 1 US cent (but if you rerun tasks, you will be charged every time).** For more information on pricing, see [OpenAI's pricing page](https://openai.com/pricing).\n",
    "\n",
    "1. Go to the [Payment Methods page](https://platform.openai.com/account/billing/payment-methods).\n",
    "\n",
    "2. Click Add payment method.\n",
    "\n",
    "3. Fill in your card details."
   ]
  },
  {
   "cell_type": "markdown",
   "id": "cb423d95-5cd7-4632-a79c-728821d7393b",
   "metadata": {},
   "source": [
    "### Install open ai library"
   ]
  },
  {
   "cell_type": "code",
   "execution_count": 1,
   "id": "ab70fec0-93f4-4d5b-b1d2-21b99ddab27c",
   "metadata": {},
   "outputs": [],
   "source": [
    "# !pip install openai"
   ]
  },
  {
   "cell_type": "markdown",
   "id": "152fe86f-3844-4fe0-b6be-c681e47ec660",
   "metadata": {},
   "source": [
    "### Load Open AI Key"
   ]
  },
  {
   "cell_type": "code",
   "execution_count": 2,
   "id": "53a81d10-ae21-46cb-9cfb-bda2e82afa9b",
   "metadata": {},
   "outputs": [
    {
     "name": "stdout",
     "output_type": "stream",
     "text": [
      "C:\\Users\\agaan\\openaiapps\\.env\n"
     ]
    }
   ],
   "source": [
    "import os\n",
    "from dotenv import load_dotenv, find_dotenv\n",
    "_ = load_dotenv(find_dotenv()) # read local .env file\n",
    "print(find_dotenv())\n",
    "\n",
    "OPEN_API_KEY=os.getenv('OPENAI_API_KEY')\n",
    "\n",
    "# print(OPEN_API_KEY)\n"
   ]
  },
  {
   "cell_type": "markdown",
   "id": "c904f8ec-b8bc-420d-8fff-5890982e4274",
   "metadata": {},
   "source": [
    "### Create Client"
   ]
  },
  {
   "cell_type": "code",
   "execution_count": 3,
   "id": "cf379b27-a5f3-4748-9ae5-a67f128eb963",
   "metadata": {},
   "outputs": [],
   "source": [
    "\n",
    "from openai import OpenAI\n",
    "\n",
    "# Define Model\n",
    "model=\"gpt-4o-mini\"\n",
    "\n",
    "#define client\n",
    "client = OpenAI(api_key=OPEN_API_KEY)"
   ]
  },
  {
   "cell_type": "markdown",
   "id": "bbe2be04-e10a-4bc3-bfe5-ec30fdc5ac1b",
   "metadata": {},
   "source": [
    "## Make Your First Call"
   ]
  },
  {
   "cell_type": "code",
   "execution_count": 4,
   "id": "6600e8e0-4388-43a2-8474-0a6d1bfd9bcb",
   "metadata": {},
   "outputs": [
    {
     "name": "stdout",
     "output_type": "stream",
     "text": [
      "Gravity is like an invisible hand that pulls everything down toward the ground, keeping us from floating away! It helps us stay on the Earth and keeps the moon going around it.\n"
     ]
    }
   ],
   "source": [
    "response=client.chat.completions.create(model=model,\n",
    "                              messages=[{\"role\":\"user\",\"content\":\"Tell me more about gravity like I am a 5 year old kid in 2 lines\"}\n",
    "                                       ]\n",
    "                              )\n",
    "\n",
    "print(response.choices[0].message.content)"
   ]
  }
 ],
 "metadata": {
  "kernelspec": {
   "display_name": "Python 3 (ipykernel)",
   "language": "python",
   "name": "python3"
  },
  "language_info": {
   "codemirror_mode": {
    "name": "ipython",
    "version": 3
   },
   "file_extension": ".py",
   "mimetype": "text/x-python",
   "name": "python",
   "nbconvert_exporter": "python",
   "pygments_lexer": "ipython3",
   "version": "3.12.7"
  }
 },
 "nbformat": 4,
 "nbformat_minor": 5
}
