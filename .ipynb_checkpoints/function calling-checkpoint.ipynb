{
 "cells": [
  {
   "cell_type": "markdown",
   "id": "5ee2d6f7-74b4-4634-93ef-de43c85f06ff",
   "metadata": {},
   "source": [
    "\n",
    "\n",
    "<h1><center>JSON Response and Function Calling</center></h1>\n",
    "<h2><center>Structured Response and Tools</center></h2>\n",
    "<h3><center>Build AI Apps - Beginner Level</center></h3>"
   ]
  },
  {
   "cell_type": "markdown",
   "id": "1f4aa4c6-d068-41f8-9c4c-d1d68b09b39c",
   "metadata": {},
   "source": [
    "## Before you start\n",
    "\n",
    "In order to complete the project you will need to create a developer account with OpenAI and store your API key as an environment variable. Instructions for these steps are outlined below.\n",
    "\n",
    "### Create a developer account with OpenAI\n",
    "\n",
    "1. Go to the [API signup page](https://platform.openai.com/signup). \n",
    "\n",
    "2. Create your account (you'll need to provide your email address and your phone number).\n",
    "\n",
    "3. Go to the [API keys page](https://platform.openai.com/account/api-keys). \n",
    "\n",
    "4. Create a new secret key.\n",
    "\n",
    "\n",
    "5. **Take a copy of it**. (If you lose it, delete the key and create a new one.)"
   ]
  },
  {
   "cell_type": "markdown",
   "id": "8a2df415-d22d-466e-9d96-12698c267997",
   "metadata": {},
   "source": [
    "### Add a payment method\n",
    "\n",
    "OpenAI sometimes provides free credits for the API, but this can vary based on geography. You may need to add debit/credit card details. \n",
    "\n",
    "**Using the `gpt-3.5-turbo` model in this project should incur a cost less than 1 US cent (but if you rerun tasks, you will be charged every time).** For more information on pricing, see [OpenAI's pricing page](https://openai.com/pricing).\n",
    "\n",
    "1. Go to the [Payment Methods page](https://platform.openai.com/account/billing/payment-methods).\n",
    "\n",
    "2. Click Add payment method.\n",
    "\n",
    "3. Fill in your card details."
   ]
  },
  {
   "cell_type": "markdown",
   "id": "cb423d95-5cd7-4632-a79c-728821d7393b",
   "metadata": {},
   "source": [
    "### Install open ai library"
   ]
  },
  {
   "cell_type": "code",
   "execution_count": 1,
   "id": "ab70fec0-93f4-4d5b-b1d2-21b99ddab27c",
   "metadata": {},
   "outputs": [],
   "source": [
    "# !pip install openai"
   ]
  },
  {
   "cell_type": "markdown",
   "id": "152fe86f-3844-4fe0-b6be-c681e47ec660",
   "metadata": {},
   "source": [
    "### Load Open AI Key"
   ]
  },
  {
   "cell_type": "code",
   "execution_count": 2,
   "id": "53a81d10-ae21-46cb-9cfb-bda2e82afa9b",
   "metadata": {},
   "outputs": [
    {
     "name": "stdout",
     "output_type": "stream",
     "text": [
      "C:\\Users\\agaan\\openaiapps\\.env\n"
     ]
    }
   ],
   "source": [
    "import os\n",
    "from dotenv import load_dotenv, find_dotenv\n",
    "_ = load_dotenv(find_dotenv()) # read local .env file\n",
    "print(find_dotenv())\n",
    "\n",
    "OPEN_API_KEY=os.getenv('OPENAI_API_KEY')\n",
    "\n",
    "# print(OPEN_API_KEY)\n"
   ]
  },
  {
   "cell_type": "markdown",
   "id": "c904f8ec-b8bc-420d-8fff-5890982e4274",
   "metadata": {},
   "source": [
    "### Create Client"
   ]
  },
  {
   "cell_type": "code",
   "execution_count": 3,
   "id": "cf379b27-a5f3-4748-9ae5-a67f128eb963",
   "metadata": {},
   "outputs": [],
   "source": [
    "\n",
    "from openai import OpenAI\n",
    "\n",
    "# Define Model\n",
    "model=\"gpt-4o-mini\"\n",
    "\n",
    "#define client\n",
    "client = OpenAI(api_key=OPEN_API_KEY)"
   ]
  },
  {
   "cell_type": "markdown",
   "id": "bbe2be04-e10a-4bc3-bfe5-ec30fdc5ac1b",
   "metadata": {},
   "source": [
    "## Make Your First Call"
   ]
  },
  {
   "cell_type": "code",
   "execution_count": 4,
   "id": "6600e8e0-4388-43a2-8474-0a6d1bfd9bcb",
   "metadata": {},
   "outputs": [
    {
     "name": "stdout",
     "output_type": "stream",
     "text": [
      "Gravity is like an invisible hug that pulls everything toward the ground, so when you jump, you come back down! It keeps us and all our toys safe on the Earth.\n"
     ]
    }
   ],
   "source": [
    "# response=client.chat.completions.create(model=model,\n",
    "#                               messages=[{\"role\":\"user\",\"content\":\"Tell me more about gravity like I am a 5 year old kid in 2 lines\"}\n",
    "#                                        ]\n",
    "#                               )\n",
    "\n",
    "# print(response.choices[0].message.content)"
   ]
  },
  {
   "cell_type": "markdown",
   "id": "a787b572-0cae-4f3c-9b52-3c09f29af9a4",
   "metadata": {},
   "source": [
    "# Extracting Structured Data From Unstructured Text\n",
    "\n",
    "## Concept - JSON Format & Function Calling"
   ]
  },
  {
   "cell_type": "code",
   "execution_count": 5,
   "id": "ee5d4085-b2ff-4be1-9e29-376247f45710",
   "metadata": {},
   "outputs": [],
   "source": [
    "job_description=\"\"\"We are currently seeking a highly skilled Data Scientist to join our innovative team at \n",
    "       the company's headquarters in San Francisco,CA.\n",
    "       In this role, you will have the opportunity to work on complex data analysis and \n",
    "       modeling projects that drive our strategicdecisions.\n",
    "       Requirements: Minimum 3 years ofexperience in data science with Python and AWS, Azure or GCP.\"\"\""
   ]
  },
  {
   "cell_type": "code",
   "execution_count": 9,
   "id": "2f31811c-88c4-4883-8642-bf5486d2a0a0",
   "metadata": {
    "scrolled": true
   },
   "outputs": [
    {
     "name": "stdout",
     "output_type": "stream",
     "text": [
      "{\n",
      "  \"job_title\": \"Data Scientist\",\n",
      "  \"company\": {\n",
      "    \"name\": \"Innovative Team\",\n",
      "    \"location\": \"San Francisco, CA\"\n",
      "  },\n",
      "  \"role_description\": \"In this role, you will have the opportunity to work on complex data analysis and modeling projects that drive our strategic decisions.\",\n",
      "  \"requirements\": {\n",
      "    \"experience\": \"Minimum 3 years of experience in data science\",\n",
      "    \"skills\": [\n",
      "      \"Python\",\n",
      "      \"AWS\",\n",
      "      \"Azure\",\n",
      "      \"GCP\"\n",
      "    ]\n",
      "  }\n",
      "}\n"
     ]
    }
   ],
   "source": [
    "user_prompt=f\"Extract job information from {job_description}  in JSON format\"\n",
    "\n",
    "response=client.chat.completions.create(model=model,\n",
    "                              messages=[{\"role\":\"user\",\"content\":user_prompt}\n",
    "                                       ],\n",
    "                             response_format={\"type\":\"json_object\"}\n",
    "                              )\n",
    "print(response.choices[0].message.content)"
   ]
  },
  {
   "cell_type": "markdown",
   "id": "cbc57c4c-9c5a-4300-a012-8b00f8c27a14",
   "metadata": {},
   "source": [
    "## Function Calling \n",
    "- For Structured Consistent Output\n",
    "\n",
    "- Calling Multiple Functions To Provide Complex Responses\n",
    "\n",
    "- Calling External API"
   ]
  },
  {
   "cell_type": "code",
   "execution_count": 18,
   "id": "fa89277a-6f63-4b34-8c1e-7ba39c12b2c0",
   "metadata": {},
   "outputs": [],
   "source": [
    "messages=[{\"role\":\"user\",\"content\":user_prompt}]\n",
    "# messages=[{\"role\":\"user\",\"content\":\"tell me the capital of India\"}]"
   ]
  },
  {
   "cell_type": "code",
   "execution_count": null,
   "id": "bbf4f8c7-12af-4a3a-b933-65f210896268",
   "metadata": {},
   "outputs": [],
   "source": []
  },
  {
   "cell_type": "code",
   "execution_count": 19,
   "id": "fed5dcd9-dab8-44ea-aa84-6eba13d4ec0a",
   "metadata": {},
   "outputs": [],
   "source": [
    "function_definition=[\n",
    "    {\n",
    "        \"type\":\"function\",\n",
    "        \"function\":{\n",
    "            \"name\":\"extract_job_info\",\n",
    "            \"description\":\"Get the job information from the body of the input text\",\n",
    "            \"parameters\":{\n",
    "                \"type\":\"object\",\n",
    "                \"properties\":{\n",
    "                    \"job_title\":{\n",
    "                        \"type\":\"string\",\n",
    "                        \"description\":\"Job Title\"\n",
    "                    },\n",
    "                    \"location\": {\n",
    "                        \"type\": \"string\",\n",
    "                        \"description\": \"Office location\"\n",
    "                    },\n",
    "                      \"company\": {\n",
    "                        \"type\": \"string\",\n",
    "                        \"description\": \"Company Name\"\n",
    "                    },\n",
    "                    \"job_description\": {\n",
    "                        \"type\": \"string\",\n",
    "                        \"description\": \"Job Description\"\n",
    "                    },\n",
    "                     \"experience\": {\n",
    "                        \"type\": \"string\",\n",
    "                        \"description\": \"Minimum years of experience\"\n",
    "                    },\n",
    "                    \"skills\":{\n",
    "                        \"type\":\"array\",\n",
    "                        \"items\":{\n",
    "                            \"type\":\"string\"\n",
    "                        } ,\n",
    "                       \"description\": \"List of skills required\"\n",
    "                     \n",
    "                    }\n",
    "                }\n",
    "            }\n",
    "\n",
    "        }\n",
    "    }]"
   ]
  },
  {
   "cell_type": "code",
   "execution_count": 12,
   "id": "b7cce796-02b8-473e-9c64-e269d8e7253b",
   "metadata": {},
   "outputs": [
    {
     "data": {
      "text/plain": [
       "[{'type': 'function',\n",
       "  'function': {'name': 'extract_job_info',\n",
       "   'description': 'Get the job information from the body of the input text',\n",
       "   'parameters': {'type': 'object',\n",
       "    'properties': {'job_title': {'type': 'string', 'description': 'Job Title'},\n",
       "     'location': {'type': 'string', 'description': 'Office location'},\n",
       "     'company': {'type': 'string', 'description': 'Company Name'},\n",
       "     'job_description': {'type': 'string', 'description': 'Job Description'},\n",
       "     'experience': {'type': 'string',\n",
       "      'description': 'Minimum years of experience'},\n",
       "     'skills': {'type': 'array',\n",
       "      'items': {'type': 'string'},\n",
       "      'description': 'List of skills required'}}}}}]"
      ]
     },
     "execution_count": 12,
     "metadata": {},
     "output_type": "execute_result"
    }
   ],
   "source": [
    "function_definition"
   ]
  },
  {
   "cell_type": "code",
   "execution_count": 20,
   "id": "a63f75d4-e05f-44c2-bbb9-044e2d1ab490",
   "metadata": {},
   "outputs": [
    {
     "data": {
      "text/plain": [
       "ChatCompletion(id='chatcmpl-BZDQwcXMiP984BjwABt3x89RdaSCp', choices=[Choice(finish_reason='stop', index=0, logprobs=None, message=ChatCompletionMessage(content='The capital of India is New Delhi.', refusal=None, role='assistant', annotations=[], audio=None, function_call=None, tool_calls=None))], created=1747732818, model='gpt-4o-mini-2024-07-18', object='chat.completion', service_tier='default', system_fingerprint='fp_54eb4bd693', usage=CompletionUsage(completion_tokens=9, prompt_tokens=101, total_tokens=110, completion_tokens_details=CompletionTokensDetails(accepted_prediction_tokens=0, audio_tokens=0, reasoning_tokens=0, rejected_prediction_tokens=0), prompt_tokens_details=PromptTokensDetails(audio_tokens=0, cached_tokens=0)))"
      ]
     },
     "execution_count": 20,
     "metadata": {},
     "output_type": "execute_result"
    }
   ],
   "source": [
    "response=client.chat.completions.create(model=model,\n",
    "                              messages=messages,\n",
    "                              tools=function_definition,\n",
    "                              tool_choice=\"auto\"\n",
    "                                        )\n",
    "response"
   ]
  },
  {
   "cell_type": "code",
   "execution_count": 22,
   "id": "0d72f370-a4db-42d0-ac25-996d6dd8fa32",
   "metadata": {
    "scrolled": true
   },
   "outputs": [
    {
     "name": "stdout",
     "output_type": "stream",
     "text": [
      "None\n"
     ]
    }
   ],
   "source": [
    "print(response.choices[0].message.tool_calls[0].function.arguments)\n"
   ]
  },
  {
   "cell_type": "markdown",
   "id": "97bdd991-f89c-425c-a7dd-51b95229c5c4",
   "metadata": {},
   "source": [
    "## Working with Multiple Functions - Auto, Chaining, tool_choice"
   ]
  },
  {
   "cell_type": "code",
   "execution_count": 23,
   "id": "f3507673-e1fa-4dad-9f93-ffaa98d28034",
   "metadata": {},
   "outputs": [],
   "source": [
    "function_definition.append({'type': 'function',\n",
    "     'function':{'name': 'get_timezone',\n",
    "                 'description': 'Return the timezone corresponding to the location in the  job advert',\n",
    "                 'parameters': {'type': 'object',\n",
    "                                'properties': {'timezone': {'type': 'string','description': 'Timezone'}}\n",
    "                               } \n",
    "                }  \n",
    "    }\n",
    ")"
   ]
  },
  {
   "cell_type": "code",
   "execution_count": 24,
   "id": "229cb815-e658-4d50-b47a-c0a262be2d44",
   "metadata": {},
   "outputs": [
    {
     "data": {
      "text/plain": [
       "[{'type': 'function',\n",
       "  'function': {'name': 'extract_job_info',\n",
       "   'description': 'Get the job information from the body of the input text',\n",
       "   'parameters': {'type': 'object',\n",
       "    'properties': {'job_title': {'type': 'string', 'description': 'Job Title'},\n",
       "     'location': {'type': 'string', 'description': 'Office location'},\n",
       "     'company': {'type': 'string', 'description': 'Company Name'},\n",
       "     'job_description': {'type': 'string', 'description': 'Job Description'},\n",
       "     'experience': {'type': 'string',\n",
       "      'description': 'Minimum years of experience'},\n",
       "     'skills': {'type': 'array',\n",
       "      'items': {'type': 'string'},\n",
       "      'description': 'List of skills required'}}}}},\n",
       " {'type': 'function',\n",
       "  'function': {'name': 'get_timezone',\n",
       "   'description': 'Return the timezone corresponding to the location in the  job advert',\n",
       "   'parameters': {'type': 'object',\n",
       "    'properties': {'timezone': {'type': 'string',\n",
       "      'description': 'Timezone'}}}}}]"
      ]
     },
     "execution_count": 24,
     "metadata": {},
     "output_type": "execute_result"
    }
   ],
   "source": [
    "function_definition"
   ]
  }
 ],
 "metadata": {
  "kernelspec": {
   "display_name": "Python 3 (ipykernel)",
   "language": "python",
   "name": "python3"
  },
  "language_info": {
   "codemirror_mode": {
    "name": "ipython",
    "version": 3
   },
   "file_extension": ".py",
   "mimetype": "text/x-python",
   "name": "python",
   "nbconvert_exporter": "python",
   "pygments_lexer": "ipython3",
   "version": "3.12.7"
  }
 },
 "nbformat": 4,
 "nbformat_minor": 5
}
