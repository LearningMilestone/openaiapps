{
 "cells": [
  {
   "cell_type": "markdown",
   "id": "5ee2d6f7-74b4-4634-93ef-de43c85f06ff",
   "metadata": {},
   "source": [
    "<h1><center>Dynamic Function Calling</center></h1>\n",
    "<h2><center>Function Calling</center></h2>\n",
    "<h3><center>Build AI Apps - Beginner Level</center></h3>"
   ]
  },
  {
   "cell_type": "markdown",
   "id": "1f4aa4c6-d068-41f8-9c4c-d1d68b09b39c",
   "metadata": {},
   "source": [
    "## Before you start\n",
    "\n",
    "In order to complete the project you will need to create a developer account with OpenAI and store your API key as an environment variable. Instructions for these steps are outlined below.\n",
    "\n",
    "### Create a developer account with OpenAI\n",
    "\n",
    "1. Go to the [API signup page](https://platform.openai.com/signup). \n",
    "\n",
    "2. Create your account (you'll need to provide your email address and your phone number).\n",
    "\n",
    "3. Go to the [API keys page](https://platform.openai.com/account/api-keys). \n",
    "\n",
    "4. Create a new secret key.\n",
    "\n",
    "\n",
    "5. **Take a copy of it**. (If you lose it, delete the key and create a new one.)"
   ]
  },
  {
   "cell_type": "markdown",
   "id": "8a2df415-d22d-466e-9d96-12698c267997",
   "metadata": {},
   "source": [
    "### Add a payment method\n",
    "\n",
    "OpenAI sometimes provides free credits for the API, but this can vary based on geography. You may need to add debit/credit card details. \n",
    "\n",
    "**Using the `gpt-3.5-turbo` model in this project should incur a cost less than 1 US cent (but if you rerun tasks, you will be charged every time).** For more information on pricing, see [OpenAI's pricing page](https://openai.com/pricing).\n",
    "\n",
    "1. Go to the [Payment Methods page](https://platform.openai.com/account/billing/payment-methods).\n",
    "\n",
    "2. Click Add payment method.\n",
    "\n",
    "3. Fill in your card details."
   ]
  },
  {
   "cell_type": "markdown",
   "id": "cb423d95-5cd7-4632-a79c-728821d7393b",
   "metadata": {},
   "source": [
    "### Install open ai library"
   ]
  },
  {
   "cell_type": "code",
   "execution_count": 19,
   "id": "ab70fec0-93f4-4d5b-b1d2-21b99ddab27c",
   "metadata": {},
   "outputs": [],
   "source": [
    "# !pip install openai"
   ]
  },
  {
   "cell_type": "markdown",
   "id": "152fe86f-3844-4fe0-b6be-c681e47ec660",
   "metadata": {},
   "source": [
    "### Load Open AI Key"
   ]
  },
  {
   "cell_type": "code",
   "execution_count": 20,
   "id": "53a81d10-ae21-46cb-9cfb-bda2e82afa9b",
   "metadata": {},
   "outputs": [
    {
     "name": "stdout",
     "output_type": "stream",
     "text": [
      "C:\\Users\\agaan\\openaiapps\\.env\n"
     ]
    }
   ],
   "source": [
    "import os\n",
    "from dotenv import load_dotenv, find_dotenv\n",
    "_ = load_dotenv(find_dotenv()) # read local .env file\n",
    "print(find_dotenv())\n",
    "\n",
    "OPEN_API_KEY=os.getenv('OPENAI_API_KEY')\n",
    "\n",
    "# print(OPEN_API_KEY)\n"
   ]
  },
  {
   "cell_type": "markdown",
   "id": "c904f8ec-b8bc-420d-8fff-5890982e4274",
   "metadata": {},
   "source": [
    "### Create Client"
   ]
  },
  {
   "cell_type": "code",
   "execution_count": 21,
   "id": "cf379b27-a5f3-4748-9ae5-a67f128eb963",
   "metadata": {},
   "outputs": [],
   "source": [
    "\n",
    "from openai import OpenAI\n",
    "\n",
    "# Define Model\n",
    "model=\"gpt-4o-mini\"\n",
    "\n",
    "#define client\n",
    "client = OpenAI(api_key=OPEN_API_KEY)"
   ]
  },
  {
   "cell_type": "markdown",
   "id": "bbe2be04-e10a-4bc3-bfe5-ec30fdc5ac1b",
   "metadata": {},
   "source": [
    "## Make Your First Call"
   ]
  },
  {
   "cell_type": "code",
   "execution_count": 22,
   "id": "6600e8e0-4388-43a2-8474-0a6d1bfd9bcb",
   "metadata": {},
   "outputs": [
    {
     "name": "stdout",
     "output_type": "stream",
     "text": [
      "I can't provide real-time data, including current weather conditions. For the latest weather updates in Delhi, I recommend checking a reliable weather website or app.\n"
     ]
    }
   ],
   "source": [
    "response=client.chat.completions.create(model=model,\n",
    "                              messages=[{\"role\":\"user\",\"content\":\"How is the weather in delhi today\"}\n",
    "                                       ]\n",
    "                              )\n",
    "\n",
    "print(response.choices[0].message.content)"
   ]
  },
  {
   "cell_type": "markdown",
   "id": "607210ea-7dce-4261-ad8f-4775a517f34f",
   "metadata": {},
   "source": [
    "# Create Functions"
   ]
  },
  {
   "cell_type": "code",
   "execution_count": 23,
   "id": "11437da3-1896-4a23-94e2-5ca053563996",
   "metadata": {},
   "outputs": [
    {
     "name": "stdout",
     "output_type": "stream",
     "text": [
      "8\n"
     ]
    }
   ],
   "source": [
    "def add_numbers(num1,num2):\n",
    "    add_val=int(num1)+int(num2)\n",
    "    return add_val\n",
    "print(add_numbers(3,5))"
   ]
  },
  {
   "cell_type": "code",
   "execution_count": 24,
   "id": "a881fd67-49e1-436e-b4e8-513bffdf0d32",
   "metadata": {},
   "outputs": [
    {
     "name": "stdout",
     "output_type": "stream",
     "text": [
      "-2\n"
     ]
    }
   ],
   "source": [
    "def diff_numbers(num1,num2):\n",
    "    diff_val=int(num1)-int(num2)\n",
    "    return diff_val\n",
    "print(diff_numbers(3,5))"
   ]
  },
  {
   "cell_type": "code",
   "execution_count": 25,
   "id": "163742ea-bbfc-4268-b121-7c3cb159ea59",
   "metadata": {},
   "outputs": [
    {
     "data": {
      "text/plain": [
       "{'city': 'delhi', 'temperature_c': 35.9, 'weather_condition': 'hot'}"
      ]
     },
     "execution_count": 25,
     "metadata": {},
     "output_type": "execute_result"
    }
   ],
   "source": [
    "api_key=\"5TLoUGLDbi2xLt7iY0sYwQqfHGXWGJjq\"\n",
    "def get_current_weather(city):\n",
    "    import requests\n",
    "    url = \"https://api.tomorrow.io/v4/weather/forecast\"\n",
    "    headers = {\n",
    "        \"accept\": \"application/json\",\n",
    "        \"accept-encoding\": \"deflate, gzip, br\"\n",
    "    }\n",
    "    params = {\"location\": city, \"apikey\": api_key}\n",
    "    response = requests.get(url, headers=headers, params=params)\n",
    "    data = response.json()\n",
    "    values = data['timelines']['minutely'][0]['values']\n",
    "    temp = values.get('temperature', 30)\n",
    "    humidity = values.get('humidity', 50)\n",
    "    rain = values.get('precipitationIntensity', 0)\n",
    "    condition = \"hot\" if temp > 35 else \"pleasant\" if temp < 30 else \"humid\" if humidity > 70 else \"rainy\" if rain > 0 else \"moderate\"\n",
    "    return {\n",
    "        \"city\": city,\n",
    "        \"temperature_c\": temp,\n",
    "        \"weather_condition\": condition\n",
    "    }\n",
    "get_current_weather(\"delhi\")"
   ]
  },
  {
   "cell_type": "code",
   "execution_count": 26,
   "id": "56b38c39-f071-4907-b365-b1f185eee11e",
   "metadata": {},
   "outputs": [],
   "source": [
    "tools_definition = [\n",
    "    {\n",
    "        \"type\": \"function\",\n",
    "        \"function\": {\n",
    "            \"name\": \"add_numbers\",\n",
    "            \"description\": \"Get the sum of 2 numbers\",\n",
    "            \"parameters\": {\n",
    "                \"type\": \"object\",\n",
    "                \"properties\": {\n",
    "                    \"num1\": {\"type\": \"string\"},\n",
    "                    \"num2\": {\"type\": \"string\"}\n",
    "                },\n",
    "                \"required\": [\"num1\", \"num2\"]\n",
    "            }\n",
    "        }\n",
    "    },\n",
    "    {\n",
    "        \"type\": \"function\",\n",
    "        \"function\": {\n",
    "            \"name\": \"diff_numbers\",\n",
    "            \"description\": \"Get the difference of 2 numbers\",\n",
    "            \"parameters\": {\n",
    "                \"type\": \"object\",\n",
    "                \"properties\": {\n",
    "                    \"num1\": {\"type\": \"string\"},\n",
    "                    \"num2\": {\"type\": \"string\"}\n",
    "                },\n",
    "                \"required\": [\"num1\", \"num2\"]\n",
    "            }\n",
    "        }\n",
    "    },\n",
    "\n",
    "     {\n",
    "        \"type\": \"function\",\n",
    "        \"function\": {\n",
    "            \"name\": \"get_current_weather\",\n",
    "            \"description\": \"Get current weather info for a city\",\n",
    "            \"parameters\": {\n",
    "                \"type\": \"object\",\n",
    "                \"properties\": {\n",
    "                    \"city\": {\"type\": \"string\", \"description\": \"City name\"}\n",
    "                },\n",
    "                \"required\": [\"city\"]\n",
    "            }\n",
    "        }\n",
    "    }\n",
    "    \n",
    "]\n"
   ]
  },
  {
   "cell_type": "code",
   "execution_count": 27,
   "id": "3f4dae1f-7d41-455d-a40e-b9279ea60adf",
   "metadata": {},
   "outputs": [],
   "source": [
    "messages=[{\"role\":\"system\",\"content\":\"You are a helpful assistant who helps user in answering questions in short\"}]\n",
    "\n",
    "# user_prompt1={\"role\":\"user\",\"content\":\"what is the capital of delhi.give one word answer\"}\n",
    "\n",
    "# user_prompt2={\"role\":\"user\",\"content\":\" what is the difference of 7 and 4\"}\n",
    "\n",
    "user_prompt3={\"role\":\"user\",\"content\":\"Add 7 and 4, subtract the addition result from 18\"}\n",
    "# user_prompt3={\"role\":\"user\",\"content\":\"Hows the weather in Delhi Today\"}\n",
    "\n",
    "\n",
    "# messages.append(user_prompt1)  \n",
    "messages.append(user_prompt3)  \n",
    "# messages.append(user_prompt3)"
   ]
  },
  {
   "cell_type": "code",
   "execution_count": 28,
   "id": "059a7aa8-a685-4d5e-bb1a-c0d9cdfb2ec9",
   "metadata": {},
   "outputs": [
    {
     "data": {
      "text/plain": [
       "[{'role': 'system',\n",
       "  'content': 'You are a helpful assistant who helps user in answering questions in short'},\n",
       " {'role': 'user',\n",
       "  'content': 'Add 7 and 4, subtract the addition result from 18'}]"
      ]
     },
     "execution_count": 28,
     "metadata": {},
     "output_type": "execute_result"
    }
   ],
   "source": [
    "messages"
   ]
  },
  {
   "cell_type": "code",
   "execution_count": 29,
   "id": "a82caff0-9a64-483e-8df3-a8e56538ff6c",
   "metadata": {},
   "outputs": [
    {
     "name": "stdout",
     "output_type": "stream",
     "text": [
      "ChatCompletion(id='chatcmpl-BcslOsI4L9bQm5Int2q1Z22olSaqv', choices=[Choice(finish_reason='tool_calls', index=0, logprobs=None, message=ChatCompletionMessage(content=None, refusal=None, role='assistant', annotations=[], audio=None, function_call=None, tool_calls=[ChatCompletionMessageToolCall(id='call_gPLn3e5QR0l1kXHYNlZbILpf', function=Function(arguments='{\"num1\": \"7\", \"num2\": \"4\"}', name='add_numbers'), type='function'), ChatCompletionMessageToolCall(id='call_yeyGWtEOaP58qlk5HNC8Mvae', function=Function(arguments='{\"num1\": \"18\", \"num2\": \"11\"}', name='diff_numbers'), type='function')]))], created=1748606674, model='gpt-4o-mini-2024-07-18', object='chat.completion', service_tier='default', system_fingerprint='fp_34a54ae93c', usage=CompletionUsage(completion_tokens=56, prompt_tokens=134, total_tokens=190, completion_tokens_details=CompletionTokensDetails(accepted_prediction_tokens=0, audio_tokens=0, reasoning_tokens=0, rejected_prediction_tokens=0), prompt_tokens_details=PromptTokensDetails(audio_tokens=0, cached_tokens=0)))\n"
     ]
    }
   ],
   "source": [
    "response=client.chat.completions.create(\n",
    "    model=model,\n",
    "    messages=messages,\n",
    "    tools=tools_definition,\n",
    "    tool_choice=\"auto\"\n",
    ")\n",
    "print(response)"
   ]
  },
  {
   "cell_type": "code",
   "execution_count": 30,
   "id": "8c11ad59-2ebe-45f2-a9a5-f9ae8cf6a0df",
   "metadata": {},
   "outputs": [
    {
     "data": {
      "text/plain": [
       "ChatCompletionMessage(content=None, refusal=None, role='assistant', annotations=[], audio=None, function_call=None, tool_calls=[ChatCompletionMessageToolCall(id='call_gPLn3e5QR0l1kXHYNlZbILpf', function=Function(arguments='{\"num1\": \"7\", \"num2\": \"4\"}', name='add_numbers'), type='function'), ChatCompletionMessageToolCall(id='call_yeyGWtEOaP58qlk5HNC8Mvae', function=Function(arguments='{\"num1\": \"18\", \"num2\": \"11\"}', name='diff_numbers'), type='function')])"
      ]
     },
     "execution_count": 30,
     "metadata": {},
     "output_type": "execute_result"
    }
   ],
   "source": [
    "assistant_msg=response.choices[0].message\n",
    "assistant_msg"
   ]
  },
  {
   "cell_type": "code",
   "execution_count": 31,
   "id": "cad1fb75-cf1f-42ed-b5c7-2bb5176949e1",
   "metadata": {},
   "outputs": [
    {
     "data": {
      "text/plain": [
       "[{'role': 'system',\n",
       "  'content': 'You are a helpful assistant who helps user in answering questions in short'},\n",
       " {'role': 'user',\n",
       "  'content': 'Add 7 and 4, subtract the addition result from 18'},\n",
       " {'role': 'assistant',\n",
       "  'tool_calls': [{'id': 'call_gPLn3e5QR0l1kXHYNlZbILpf',\n",
       "    'function': {'arguments': '{\"num1\": \"7\", \"num2\": \"4\"}',\n",
       "     'name': 'add_numbers'},\n",
       "    'type': 'function'},\n",
       "   {'id': 'call_yeyGWtEOaP58qlk5HNC8Mvae',\n",
       "    'function': {'arguments': '{\"num1\": \"18\", \"num2\": \"11\"}',\n",
       "     'name': 'diff_numbers'},\n",
       "    'type': 'function'}]}]"
      ]
     },
     "execution_count": 31,
     "metadata": {},
     "output_type": "execute_result"
    }
   ],
   "source": [
    "tool_calls=assistant_msg.tool_calls\n",
    "\n",
    "if tool_calls:\n",
    "    messages.append({\"role\":\"assistant\",\"tool_calls\":[tc.model_dump()for tc in tool_calls]})\n",
    "messages"
   ]
  },
  {
   "cell_type": "code",
   "execution_count": 32,
   "id": "b9c06e8f-8e1a-4493-8a81-650145b067b7",
   "metadata": {},
   "outputs": [
    {
     "data": {
      "text/plain": [
       "[ChatCompletionMessageToolCall(id='call_gPLn3e5QR0l1kXHYNlZbILpf', function=Function(arguments='{\"num1\": \"7\", \"num2\": \"4\"}', name='add_numbers'), type='function'),\n",
       " ChatCompletionMessageToolCall(id='call_yeyGWtEOaP58qlk5HNC8Mvae', function=Function(arguments='{\"num1\": \"18\", \"num2\": \"11\"}', name='diff_numbers'), type='function')]"
      ]
     },
     "execution_count": 32,
     "metadata": {},
     "output_type": "execute_result"
    }
   ],
   "source": [
    "tool_calls"
   ]
  },
  {
   "cell_type": "code",
   "execution_count": 33,
   "id": "60d843bc-d6ae-40d1-bed6-3a4b74cf8725",
   "metadata": {},
   "outputs": [],
   "source": [
    "for tool_call in tool_calls:\n",
    "    func_name=tool_call.function.name\n",
    "    args=json.loads(tool_call.function.arguments)\n",
    "\n",
    "    if func_name==\"add_numbers\":\n",
    "        result=add_numbers(**args)\n",
    "    elif func_name == \"diff_numbers\":\n",
    "        result = diff_numbers(**args)\n",
    "    elif func_name == \"get_current_weather\":\n",
    "        result = get_current_weather(args[\"city\"])\n",
    "    else:\n",
    "        result = \"Unknown function\"\n",
    "    # Step 3: Append tool result\n",
    "    messages.append({\n",
    "        \"role\": \"tool\",\n",
    "        \"tool_call_id\": tool_call.id,\n",
    "        \"content\": json.dumps(result)\n",
    "    })"
   ]
  },
  {
   "cell_type": "code",
   "execution_count": 34,
   "id": "0f54c05b-f78d-4766-a20a-1cb7a4f62635",
   "metadata": {},
   "outputs": [
    {
     "data": {
      "text/plain": [
       "[{'role': 'system',\n",
       "  'content': 'You are a helpful assistant who helps user in answering questions in short'},\n",
       " {'role': 'user',\n",
       "  'content': 'Add 7 and 4, subtract the addition result from 18'},\n",
       " {'role': 'assistant',\n",
       "  'tool_calls': [{'id': 'call_gPLn3e5QR0l1kXHYNlZbILpf',\n",
       "    'function': {'arguments': '{\"num1\": \"7\", \"num2\": \"4\"}',\n",
       "     'name': 'add_numbers'},\n",
       "    'type': 'function'},\n",
       "   {'id': 'call_yeyGWtEOaP58qlk5HNC8Mvae',\n",
       "    'function': {'arguments': '{\"num1\": \"18\", \"num2\": \"11\"}',\n",
       "     'name': 'diff_numbers'},\n",
       "    'type': 'function'}]},\n",
       " {'role': 'tool',\n",
       "  'tool_call_id': 'call_gPLn3e5QR0l1kXHYNlZbILpf',\n",
       "  'content': '11'},\n",
       " {'role': 'tool',\n",
       "  'tool_call_id': 'call_yeyGWtEOaP58qlk5HNC8Mvae',\n",
       "  'content': '7'}]"
      ]
     },
     "execution_count": 34,
     "metadata": {},
     "output_type": "execute_result"
    }
   ],
   "source": [
    "messages"
   ]
  },
  {
   "cell_type": "code",
   "execution_count": 35,
   "id": "164b7a6a-9cc6-43e4-8175-69d241ed2e73",
   "metadata": {},
   "outputs": [
    {
     "data": {
      "text/plain": [
       "ChatCompletion(id='chatcmpl-BcslQ5Wl5piPDBssupA9Tlw5z04ru', choices=[Choice(finish_reason='stop', index=0, logprobs=None, message=ChatCompletionMessage(content='7 plus 4 equals 11. Subtracting 11 from 18 gives you 7.', refusal=None, role='assistant', annotations=[], audio=None, function_call=None, tool_calls=None))], created=1748606676, model='gpt-4o-mini-2024-07-18', object='chat.completion', service_tier='default', system_fingerprint='fp_62a23a81ef', usage=CompletionUsage(completion_tokens=21, prompt_tokens=110, total_tokens=131, completion_tokens_details=CompletionTokensDetails(accepted_prediction_tokens=0, audio_tokens=0, reasoning_tokens=0, rejected_prediction_tokens=0), prompt_tokens_details=PromptTokensDetails(audio_tokens=0, cached_tokens=0)))"
      ]
     },
     "execution_count": 35,
     "metadata": {},
     "output_type": "execute_result"
    }
   ],
   "source": [
    "final_response = client.chat.completions.create(\n",
    "    model=model,\n",
    "    messages=messages,\n",
    ")\n",
    "final_response"
   ]
  },
  {
   "cell_type": "code",
   "execution_count": 36,
   "id": "6e89248c-83a7-4278-96ae-0c8b705bda3e",
   "metadata": {},
   "outputs": [
    {
     "data": {
      "text/markdown": [
       "7 plus 4 equals 11. Subtracting 11 from 18 gives you 7."
      ],
      "text/plain": [
       "<IPython.core.display.Markdown object>"
      ]
     },
     "execution_count": 36,
     "metadata": {},
     "output_type": "execute_result"
    }
   ],
   "source": [
    "from IPython.display import display, Markdown\n",
    "Markdown(final_response.choices[0].message.content)"
   ]
  }
 ],
 "metadata": {
  "kernelspec": {
   "display_name": "Python 3 (ipykernel)",
   "language": "python",
   "name": "python3"
  },
  "language_info": {
   "codemirror_mode": {
    "name": "ipython",
    "version": 3
   },
   "file_extension": ".py",
   "mimetype": "text/x-python",
   "name": "python",
   "nbconvert_exporter": "python",
   "pygments_lexer": "ipython3",
   "version": "3.12.7"
  }
 },
 "nbformat": 4,
 "nbformat_minor": 5
}
