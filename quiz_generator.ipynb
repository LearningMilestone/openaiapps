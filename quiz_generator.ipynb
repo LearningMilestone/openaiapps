{
 "cells": [
  {
   "cell_type": "markdown",
   "id": "5ee2d6f7-74b4-4634-93ef-de43c85f06ff",
   "metadata": {},
   "source": [
    "<h1><center>Automatic Quiz Generation from Documents/Web Page</center></h1>\n",
    "<h2><center>AI-powered Educational Assistant / Content Generator</center></h2>\n",
    "<h3><center>Build AI Apps - Beginner Level</center></h3>\n",
    "<h4><center>Education<center></h4>"
   ]
  },
  {
   "cell_type": "markdown",
   "id": "1f4aa4c6-d068-41f8-9c4c-d1d68b09b39c",
   "metadata": {},
   "source": [
    "## Before you start\n",
    "\n",
    "In order to complete the project you will need to create a developer account with OpenAI and store your API key as an environment variable. Instructions for these steps are outlined below.\n",
    "\n",
    "### Create a developer account with OpenAI\n",
    "\n",
    "1. Go to the [API signup page](https://platform.openai.com/signup). \n",
    "\n",
    "2. Create your account (you'll need to provide your email address and your phone number).\n",
    "\n",
    "3. Go to the [API keys page](https://platform.openai.com/account/api-keys). \n",
    "\n",
    "4. Create a new secret key.\n",
    "\n",
    "\n",
    "5. **Take a copy of it**. (If you lose it, delete the key and create a new one.)"
   ]
  },
  {
   "cell_type": "markdown",
   "id": "8a2df415-d22d-466e-9d96-12698c267997",
   "metadata": {},
   "source": [
    "### Add a payment method\n",
    "\n",
    "OpenAI sometimes provides free credits for the API, but this can vary based on geography. You may need to add debit/credit card details. \n",
    "\n",
    "**Using the `gpt-3.5-turbo` model in this project should incur a cost less than 1 US cent (but if you rerun tasks, you will be charged every time).** For more information on pricing, see [OpenAI's pricing page](https://openai.com/pricing).\n",
    "\n",
    "1. Go to the [Payment Methods page](https://platform.openai.com/account/billing/payment-methods).\n",
    "\n",
    "2. Click Add payment method.\n",
    "\n",
    "3. Fill in your card details."
   ]
  },
  {
   "cell_type": "markdown",
   "id": "cb423d95-5cd7-4632-a79c-728821d7393b",
   "metadata": {},
   "source": [
    "### Install open ai library"
   ]
  },
  {
   "cell_type": "code",
   "execution_count": 15,
   "id": "ab70fec0-93f4-4d5b-b1d2-21b99ddab27c",
   "metadata": {},
   "outputs": [],
   "source": [
    "# !pip install openai"
   ]
  },
  {
   "cell_type": "markdown",
   "id": "152fe86f-3844-4fe0-b6be-c681e47ec660",
   "metadata": {},
   "source": [
    "### Load Open AI Key"
   ]
  },
  {
   "cell_type": "code",
   "execution_count": 16,
   "id": "53a81d10-ae21-46cb-9cfb-bda2e82afa9b",
   "metadata": {},
   "outputs": [
    {
     "name": "stdout",
     "output_type": "stream",
     "text": [
      "C:\\Users\\agaan\\openaiapps\\.env\n"
     ]
    }
   ],
   "source": [
    "import os\n",
    "from dotenv import load_dotenv, find_dotenv\n",
    "_ = load_dotenv(find_dotenv()) # read local .env file\n",
    "print(find_dotenv())\n",
    "\n",
    "OPEN_API_KEY=os.getenv('OPENAI_API_KEY')\n",
    "\n",
    "# print(OPEN_API_KEY)\n"
   ]
  },
  {
   "cell_type": "markdown",
   "id": "c904f8ec-b8bc-420d-8fff-5890982e4274",
   "metadata": {},
   "source": [
    "### Create Client"
   ]
  },
  {
   "cell_type": "code",
   "execution_count": 17,
   "id": "cf379b27-a5f3-4748-9ae5-a67f128eb963",
   "metadata": {},
   "outputs": [],
   "source": [
    "\n",
    "from openai import OpenAI\n",
    "\n",
    "# Define Model\n",
    "model=\"gpt-4o-mini\"\n",
    "\n",
    "#define client\n",
    "client = OpenAI(api_key=OPEN_API_KEY)"
   ]
  },
  {
   "cell_type": "markdown",
   "id": "bbe2be04-e10a-4bc3-bfe5-ec30fdc5ac1b",
   "metadata": {},
   "source": [
    "## Quiz Generation Application"
   ]
  },
  {
   "cell_type": "code",
   "execution_count": 18,
   "id": "83f3e0a8-87cc-4ec6-b789-0d0e5600aa7b",
   "metadata": {},
   "outputs": [],
   "source": [
    "# response=client.chat.completions.create(model=model,\n",
    "#                               messages=[{\"role\":\"user\",\"content\":\"Tell me more about gravity like I am a 5 year old kid in 2 lines\"}\n",
    "#                                        ]\n",
    "#                               )\n",
    "\n",
    "# print(response.choices[0].message.content)"
   ]
  },
  {
   "cell_type": "markdown",
   "id": "43d9ffad-571d-4e42-990d-87fa9708063b",
   "metadata": {},
   "source": [
    "### Read Data From Text File"
   ]
  },
  {
   "cell_type": "code",
   "execution_count": 19,
   "id": "890f9fc0-a4e2-4241-85e7-595f9b8522fb",
   "metadata": {},
   "outputs": [],
   "source": [
    "text=\"\"\"Earth is the third planet from the Sun and the only astronomical object known to harbor life. This is enabled by Earth being an ocean world, the only one in the Solar System sustaining liquid surface water\"\"\""
   ]
  },
  {
   "cell_type": "code",
   "execution_count": 23,
   "id": "40ab51f8-be9d-4a60-9584-7a7454c21e42",
   "metadata": {},
   "outputs": [],
   "source": [
    "# Safely read a limited number of lines from a text file\n",
    "def read_text_from_file(filename, max_lines=100):\n",
    "    try:\n",
    "        with open(filename, 'r') as file:\n",
    "            return ''.join([line for _, line in zip(range(max_lines), file)])\n",
    "    except FileNotFoundError:\n",
    "        print(f\"Error: {filename} not found.\")\n",
    "        return \"\"\n",
    "\n",
    "# Read content from the file\n",
    "content = read_text_from_file(\"physics_lecture.txt\")\n",
    "\n",
    "# print(content)"
   ]
  },
  {
   "cell_type": "markdown",
   "id": "23946f20-d8d8-41e1-95e8-761c231cf6d8",
   "metadata": {},
   "source": [
    "### Read Data From Web Page"
   ]
  },
  {
   "cell_type": "code",
   "execution_count": 31,
   "id": "8cd879b2-820a-42df-9cb1-32bd0631fccc",
   "metadata": {},
   "outputs": [],
   "source": [
    "import requests\n",
    "from bs4 import BeautifulSoup\n",
    "\n",
    "def read_text_from_webpage(url, max_paragraphs=15):\n",
    "    try:\n",
    "        response = requests.get(url)\n",
    "        response.raise_for_status()  # Raise error if request failed\n",
    "\n",
    "        soup = BeautifulSoup(response.text, 'html.parser')\n",
    "\n",
    "        # Extract text from paragraphs in the main content area\n",
    "        paragraphs = soup.find_all('p')\n",
    "        selected_text = \"\\n\".join(p.get_text() for p in paragraphs[:max_paragraphs])\n",
    "        \n",
    "        return selected_text\n",
    "\n",
    "    except Exception as e:\n",
    "        print(f\"Error reading from {url}: {e}\")\n",
    "        return \"\"\n",
    "content = read_text_from_webpage(\"https://en.wikipedia.org/wiki/Earth\")"
   ]
  },
  {
   "cell_type": "markdown",
   "id": "63f9a175-7e5b-4a99-933c-2b12e98d30b4",
   "metadata": {},
   "source": [
    "### Define Prompts"
   ]
  },
  {
   "cell_type": "code",
   "execution_count": 20,
   "id": "d3a90372-3e90-406b-bbba-3c8842c8827e",
   "metadata": {},
   "outputs": [],
   "source": [
    "system_prompt = \"\"\"\n",
    "You are a teaching assistant that generates multiple-choice questions from a provided educational text.\n",
    "Your role is to assist educators by creating quiz questions with one correct answer.\n",
    "\"\"\"\n",
    "\n",
    "user_prompt=\"\"\"\n",
    "Generate a multiple-choice quiz question from the given text:\n",
    "Format:\n",
    "Question: <Generated Question>\n",
    "Options:\n",
    "a) <Option 1>\n",
    "\n",
    "b) <Option 2>\n",
    "\n",
    "c) <Option 3>\n",
    "\n",
    "d) <Option 4>\n",
    "\n",
    "Answer: <Correct Option>\n",
    "\"\"\""
   ]
  },
  {
   "cell_type": "markdown",
   "id": "66e1237c-6722-432e-b4a9-99f5c0585f5b",
   "metadata": {},
   "source": [
    "### Function To Generate Question"
   ]
  },
  {
   "cell_type": "code",
   "execution_count": 32,
   "id": "54893344-f3fb-4b73-9c83-cbf1a3773b55",
   "metadata": {},
   "outputs": [
    {
     "data": {
      "text/plain": [
       "\"Question: What percentage of Earth's crust is covered by the global ocean?\\nOptions:\\na) 29.2%\\n\\nb) 40.0%\\n\\nc) 70.8%\\n\\nd) 58.5%\\n\\nAnswer: c) 70.8%\""
      ]
     },
     "execution_count": 32,
     "metadata": {},
     "output_type": "execute_result"
    }
   ],
   "source": [
    "\n",
    "# def generate_quiz_questions(text):\n",
    "#     quiz_data_list=[]\n",
    "    \n",
    "#     for i in range(5):\n",
    "#         response=client.chat.completions.create(model=model,\n",
    "#                                       messages=[\n",
    "#                                           {\"role\":\"system\",\"content\":system_prompt},\n",
    "#                                           {\"role\":\"user\",\"content\":user_prompt + content}\n",
    "#                                                ],\n",
    "#                                     max_tokens=500\n",
    "#                                       )\n",
    "    \n",
    "#         question_and_answer=response.choices[0].message.content\n",
    "#         quiz_data_list.append(question_and_answer)\n",
    "#     return quiz_data_list\n",
    "\n",
    "# # # Generate quiz questions from the content provided\n",
    "# quiz_data = generate_quiz_questions(content)\n",
    "\n",
    "# # # View the first question and answer set\n",
    "# quiz_data[0]"
   ]
  },
  {
   "cell_type": "code",
   "execution_count": 33,
   "id": "2fadffac-6ce2-4eaa-9825-169935bd63f9",
   "metadata": {},
   "outputs": [
    {
     "data": {
      "text/plain": [
       "\"Question: What is the main component of Earth's atmosphere that helps maintain surface conditions by acting as a greenhouse gas?\\n\\nOptions:\\na) Carbon dioxide (CO2)\\n\\nb) Water vapor\\n\\nc) Nitrogen\\n\\nd) Oxygen\\n\\nAnswer: b) Water vapor\""
      ]
     },
     "execution_count": 33,
     "metadata": {},
     "output_type": "execute_result"
    }
   ],
   "source": [
    "# quiz_data[4]"
   ]
  },
  {
   "cell_type": "code",
   "execution_count": 34,
   "id": "1e37f585-256e-415f-91ce-10e6e66fe535",
   "metadata": {},
   "outputs": [],
   "source": [
    "def split_text_into_chunks(text, max_tokens=300):\n",
    "    # Naive split based on sentences;\n",
    "    import textwrap\n",
    "    sentences = text.split('. ')\n",
    "    chunks = []\n",
    "    current_chunk = ''\n",
    "    for sentence in sentences:\n",
    "        if len(current_chunk.split()) + len(sentence.split()) < max_tokens:\n",
    "            current_chunk += sentence + '. '\n",
    "        else:\n",
    "            chunks.append(current_chunk.strip())\n",
    "            current_chunk = sentence + '. '\n",
    "    if current_chunk:\n",
    "        chunks.append(current_chunk.strip())\n",
    "    return chunks[:5]  # Limit to top 5 chunks for now\n"
   ]
  },
  {
   "cell_type": "code",
   "execution_count": 35,
   "id": "dad40245-8442-4f91-91b5-9ef0920f36c3",
   "metadata": {},
   "outputs": [
    {
     "data": {
      "text/plain": [
       "\"Question: Which layer of Earth is responsible for generating its magnetosphere?  \\nOptions:  \\na) Earth's crust  \\nb) Liquid outer core  \\nc) Solid inner core  \\nd) Atmosphere  \\n\\nAnswer: b) Liquid outer core\""
      ]
     },
     "execution_count": 35,
     "metadata": {},
     "output_type": "execute_result"
    }
   ],
   "source": [
    "\n",
    "def generate_quiz_questions(text):\n",
    "    quiz_data_list=[]\n",
    "    chunks=split_text_into_chunks(content)\n",
    "    for chunk in chunks:\n",
    "        response=client.chat.completions.create(model=model,\n",
    "                                      messages=[\n",
    "                                          {\"role\":\"system\",\"content\":system_prompt},\n",
    "                                          {\"role\":\"user\",\"content\":user_prompt + content}\n",
    "                                               ],\n",
    "                                    max_tokens=500\n",
    "                                      )\n",
    "    \n",
    "        question_and_answer=response.choices[0].message.content\n",
    "        quiz_data_list.append(question_and_answer)\n",
    "    return quiz_data_list\n",
    "\n",
    "# # Generate quiz questions from the content provided\n",
    "quiz_data = generate_quiz_questions(content)\n",
    "\n",
    "# # View the first question and answer set\n",
    "quiz_data[0]"
   ]
  },
  {
   "cell_type": "code",
   "execution_count": 36,
   "id": "8058beb4-efcd-475b-9e00-ba76da32f006",
   "metadata": {},
   "outputs": [
    {
     "data": {
      "text/plain": [
       "\"Question: What percentage of Earth's crust is covered by its global ocean?\\nOptions:\\na) 40.8%\\n\\nb) 50.2%\\n\\nc) 70.8%\\n\\nd) 29.2%\\n\\nAnswer: c) 70.8%\""
      ]
     },
     "execution_count": 36,
     "metadata": {},
     "output_type": "execute_result"
    }
   ],
   "source": [
    "quiz_data[3]"
   ]
  },
  {
   "cell_type": "code",
   "execution_count": null,
   "id": "255c1d27-1492-476c-b10f-aaa3cfe988ea",
   "metadata": {},
   "outputs": [],
   "source": [
    "# !pip install gradio"
   ]
  },
  {
   "cell_type": "code",
   "execution_count": 41,
   "id": "d3f0beaf-1401-4fb1-92d5-bc9c47515b08",
   "metadata": {},
   "outputs": [],
   "source": [
    "# import gradio as gr\n",
    "\n",
    "# with gr.Blocks() as demo:\n",
    "#     gr.Markdown(\"# Hello World App\")\n",
    "#     name=gr.Textbox(label=\"Enter your name\")\n",
    "#     greet_btn=gr.Button(\"Greet\")\n",
    "#     output=gr.Textbox()\n",
    "\n",
    "#     def greet(name):\n",
    "#         return f\"Hello {name}\"\n",
    "#     greet_btn.click(greet,inputs=name,outputs=output)\n",
    "\n",
    "# demo.launch()"
   ]
  },
  {
   "cell_type": "code",
   "execution_count": 44,
   "id": "d9852fbb-2cc5-41ec-8aec-f2202730b3cd",
   "metadata": {},
   "outputs": [],
   "source": [
    "def process_input(source_selection,file,url):\n",
    "    if file:\n",
    "        text=read_text_from_file(file)\n",
    "    elif url:\n",
    "        text=read_text_from_webpage(url)\n",
    "    else:\n",
    "        return \"Please upload a file or enter URL\"\n",
    "    quiz_data_list=generate_quiz_questions(text)\n",
    "    quiz_output=\"\\n\\n\".join(quiz_data_list)\n",
    "    return quiz_output\n",
    "    \n"
   ]
  },
  {
   "cell_type": "code",
   "execution_count": 45,
   "id": "e965a539-9517-494c-a003-0a96ae29269d",
   "metadata": {},
   "outputs": [
    {
     "name": "stdout",
     "output_type": "stream",
     "text": [
      "* Running on local URL:  http://127.0.0.1:7868\n",
      "* To create a public link, set `share=True` in `launch()`.\n"
     ]
    },
    {
     "data": {
      "text/html": [
       "<div><iframe src=\"http://127.0.0.1:7868/\" width=\"100%\" height=\"500\" allow=\"autoplay; camera; microphone; clipboard-read; clipboard-write;\" frameborder=\"0\" allowfullscreen></iframe></div>"
      ],
      "text/plain": [
       "<IPython.core.display.HTML object>"
      ]
     },
     "metadata": {},
     "output_type": "display_data"
    },
    {
     "data": {
      "text/plain": []
     },
     "execution_count": 45,
     "metadata": {},
     "output_type": "execute_result"
    }
   ],
   "source": [
    "import gradio as gr\n",
    "with gr.Blocks() as demo:\n",
    "    gr.Markdown(\"🧪 Quiz Generator from Text File or Webpage\")\n",
    "    input_method=gr.Radio([\"Upload File\",\"Enter URL\"],label=\"Select Input Method\")\n",
    "    file_input=gr.File(label=\"Upload a File(.txt)\")\n",
    "    url_input=gr.Textbox(label=\"Enter a webpage URL\")\n",
    "    submit_btn=gr.Button(\"Generate Quiz\")\n",
    "    output=gr.Markdown()\n",
    "\n",
    "    submit_btn.click(fn=process_input,\n",
    "                    inputs=[input_method,file_input,url_input],\n",
    "                    outputs=output)\n",
    "\n",
    "demo.launch()"
   ]
  }
 ],
 "metadata": {
  "kernelspec": {
   "display_name": "Python 3 (ipykernel)",
   "language": "python",
   "name": "python3"
  },
  "language_info": {
   "codemirror_mode": {
    "name": "ipython",
    "version": 3
   },
   "file_extension": ".py",
   "mimetype": "text/x-python",
   "name": "python",
   "nbconvert_exporter": "python",
   "pygments_lexer": "ipython3",
   "version": "3.12.7"
  }
 },
 "nbformat": 4,
 "nbformat_minor": 5
}
