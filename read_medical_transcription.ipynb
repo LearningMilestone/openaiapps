{
 "cells": [
  {
   "cell_type": "markdown",
   "id": "5ee2d6f7-74b4-4634-93ef-de43c85f06ff",
   "metadata": {},
   "source": [
    "\n",
    "<h1><center>READ MEDICAL TRANSCRIPTIONS</h1>\n",
    "<h2><center>Function Calling</center></h2>\n",
    "<h3><center>Build AI Apps - Beginner Level</center></h3>"
   ]
  },
  {
   "cell_type": "markdown",
   "id": "1f4aa4c6-d068-41f8-9c4c-d1d68b09b39c",
   "metadata": {},
   "source": [
    "## Before you start\n",
    "\n",
    "In order to complete the project you will need to create a developer account with OpenAI and store your API key as an environment variable. Instructions for these steps are outlined below.\n",
    "\n",
    "### Create a developer account with OpenAI\n",
    "\n",
    "1. Go to the [API signup page](https://platform.openai.com/signup). \n",
    "\n",
    "2. Create your account (you'll need to provide your email address and your phone number).\n",
    "\n",
    "3. Go to the [API keys page](https://platform.openai.com/account/api-keys). \n",
    "\n",
    "4. Create a new secret key.\n",
    "\n",
    "\n",
    "5. **Take a copy of it**. (If you lose it, delete the key and create a new one.)"
   ]
  },
  {
   "cell_type": "markdown",
   "id": "8a2df415-d22d-466e-9d96-12698c267997",
   "metadata": {},
   "source": [
    "### Add a payment method\n",
    "\n",
    "OpenAI sometimes provides free credits for the API, but this can vary based on geography. You may need to add debit/credit card details. \n",
    "\n",
    "**Using the `gpt-3.5-turbo` model in this project should incur a cost less than 1 US cent (but if you rerun tasks, you will be charged every time).** For more information on pricing, see [OpenAI's pricing page](https://openai.com/pricing).\n",
    "\n",
    "1. Go to the [Payment Methods page](https://platform.openai.com/account/billing/payment-methods).\n",
    "\n",
    "2. Click Add payment method.\n",
    "\n",
    "3. Fill in your card details."
   ]
  },
  {
   "cell_type": "markdown",
   "id": "cb423d95-5cd7-4632-a79c-728821d7393b",
   "metadata": {},
   "source": [
    "### Install open ai library"
   ]
  },
  {
   "cell_type": "code",
   "execution_count": 44,
   "id": "ab70fec0-93f4-4d5b-b1d2-21b99ddab27c",
   "metadata": {},
   "outputs": [],
   "source": [
    "# !pip install openai"
   ]
  },
  {
   "cell_type": "markdown",
   "id": "152fe86f-3844-4fe0-b6be-c681e47ec660",
   "metadata": {},
   "source": [
    "### Load Open AI Key"
   ]
  },
  {
   "cell_type": "code",
   "execution_count": 45,
   "id": "53a81d10-ae21-46cb-9cfb-bda2e82afa9b",
   "metadata": {},
   "outputs": [],
   "source": [
    "import os\n",
    "from dotenv import load_dotenv, find_dotenv\n",
    "_ = load_dotenv(find_dotenv()) # read local .env file\n",
    "\n",
    "OPEN_API_KEY=os.getenv('OPENAI_API_KEY')\n",
    "\n"
   ]
  },
  {
   "cell_type": "markdown",
   "id": "c904f8ec-b8bc-420d-8fff-5890982e4274",
   "metadata": {},
   "source": [
    "### Create Client"
   ]
  },
  {
   "cell_type": "code",
   "execution_count": 46,
   "id": "cf379b27-a5f3-4748-9ae5-a67f128eb963",
   "metadata": {},
   "outputs": [],
   "source": [
    "\n",
    "from openai import OpenAI\n",
    "\n",
    "# Define Model\n",
    "model=\"gpt-4o-mini\"\n",
    "\n",
    "#define client\n",
    "client = OpenAI(api_key=OPEN_API_KEY)"
   ]
  },
  {
   "cell_type": "markdown",
   "id": "bbe2be04-e10a-4bc3-bfe5-ec30fdc5ac1b",
   "metadata": {},
   "source": [
    "## Make Your First Call"
   ]
  },
  {
   "cell_type": "code",
   "execution_count": 47,
   "id": "6600e8e0-4388-43a2-8474-0a6d1bfd9bcb",
   "metadata": {},
   "outputs": [],
   "source": [
    "# response=client.chat.completions.create(model=model,\n",
    "#                               messages=[{\"role\":\"user\",\"content\":\"Tell me more about gravity like I am a 5 year old kid in 2 lines\"}\n",
    "#                                        ]\n",
    "#                               )\n",
    "\n",
    "# print(response.choices[0].message.content)"
   ]
  },
  {
   "cell_type": "markdown",
   "id": "6cf68405-a36f-420e-815f-d80a8f1e7a88",
   "metadata": {},
   "source": [
    "# READ MEDICAL TRANSCRIPTIONS"
   ]
  },
  {
   "cell_type": "markdown",
   "id": "f8cefb0f-d46a-4296-b1c1-6dd86ff4fbb1",
   "metadata": {},
   "source": [
    "**Data Source**\n",
    "- https://mtsamples.com/\n",
    "\n",
    "- https://www.kaggle.com/datasets/tboyle10/medicaltranscriptions/data"
   ]
  },
  {
   "cell_type": "markdown",
   "id": "c7dc89c2-c14d-43fd-989d-a5ccec846bf4",
   "metadata": {},
   "source": [
    "## Read data from the source file"
   ]
  },
  {
   "cell_type": "code",
   "execution_count": 60,
   "id": "cb6ec32c-7d49-4436-af83-7189a8008a81",
   "metadata": {},
   "outputs": [],
   "source": [
    "import pandas as pd"
   ]
  },
  {
   "cell_type": "code",
   "execution_count": 61,
   "id": "8a4a37a9-8853-4a12-b285-57505240da9a",
   "metadata": {},
   "outputs": [],
   "source": [
    "df= pd.read_csv(\"transcriptions.csv\")"
   ]
  },
  {
   "cell_type": "code",
   "execution_count": 62,
   "id": "de30140e-80f2-4800-a4ea-fd4a8b3f0e9a",
   "metadata": {},
   "outputs": [
    {
     "data": {
      "text/html": [
       "<div>\n",
       "<style scoped>\n",
       "    .dataframe tbody tr th:only-of-type {\n",
       "        vertical-align: middle;\n",
       "    }\n",
       "\n",
       "    .dataframe tbody tr th {\n",
       "        vertical-align: top;\n",
       "    }\n",
       "\n",
       "    .dataframe thead th {\n",
       "        text-align: right;\n",
       "    }\n",
       "</style>\n",
       "<table border=\"1\" class=\"dataframe\">\n",
       "  <thead>\n",
       "    <tr style=\"text-align: right;\">\n",
       "      <th></th>\n",
       "      <th>medical_specialty</th>\n",
       "      <th>transcription</th>\n",
       "    </tr>\n",
       "  </thead>\n",
       "  <tbody>\n",
       "    <tr>\n",
       "      <th>0</th>\n",
       "      <td>Allergy / Immunology</td>\n",
       "      <td>SUBJECTIVE:,  This 23-year-old white female pr...</td>\n",
       "    </tr>\n",
       "    <tr>\n",
       "      <th>1</th>\n",
       "      <td>Bariatrics</td>\n",
       "      <td>PAST MEDICAL HISTORY:, He has difficulty climb...</td>\n",
       "    </tr>\n",
       "    <tr>\n",
       "      <th>2</th>\n",
       "      <td>Bariatrics</td>\n",
       "      <td>HISTORY OF PRESENT ILLNESS: , I have seen ABC ...</td>\n",
       "    </tr>\n",
       "    <tr>\n",
       "      <th>3</th>\n",
       "      <td>Cardiovascular / Pulmonary</td>\n",
       "      <td>2-D M-MODE: , ,1.  Left atrial enlargement wit...</td>\n",
       "    </tr>\n",
       "    <tr>\n",
       "      <th>4</th>\n",
       "      <td>Cardiovascular / Pulmonary</td>\n",
       "      <td>1.  The left ventricular cavity size and wall ...</td>\n",
       "    </tr>\n",
       "  </tbody>\n",
       "</table>\n",
       "</div>"
      ],
      "text/plain": [
       "             medical_specialty  \\\n",
       "0         Allergy / Immunology   \n",
       "1                   Bariatrics   \n",
       "2                   Bariatrics   \n",
       "3   Cardiovascular / Pulmonary   \n",
       "4   Cardiovascular / Pulmonary   \n",
       "\n",
       "                                       transcription  \n",
       "0  SUBJECTIVE:,  This 23-year-old white female pr...  \n",
       "1  PAST MEDICAL HISTORY:, He has difficulty climb...  \n",
       "2  HISTORY OF PRESENT ILLNESS: , I have seen ABC ...  \n",
       "3  2-D M-MODE: , ,1.  Left atrial enlargement wit...  \n",
       "4  1.  The left ventricular cavity size and wall ...  "
      ]
     },
     "execution_count": 62,
     "metadata": {},
     "output_type": "execute_result"
    }
   ],
   "source": [
    "df.head()"
   ]
  },
  {
   "cell_type": "code",
   "execution_count": 59,
   "id": "7cd55889-f28d-4efe-9434-214c86655a2a",
   "metadata": {},
   "outputs": [
    {
     "data": {
      "text/plain": [
       "'SUBJECTIVE:,  This 23-year-old white female presents with complaint of allergies.  She used to have allergies when she lived in Seattle but she thinks they are worse here.  In the past, she has tried Claritin, and Zyrtec.  Both worked for short time but then seemed to lose effectiveness.  She has used Allegra also.  She used that last summer and she began using it again two weeks ago.  It does not appear to be working very well.  She has used over-the-counter sprays but no prescription nasal sprays.  She does have asthma but doest not require daily medication for this and does not think it is flaring up.,MEDICATIONS: , Her only medication currently is Ortho Tri-Cyclen and the Allegra.,ALLERGIES: , She has no known medicine allergies.,OBJECTIVE:,Vitals:  Weight was 130 pounds and blood pressure 124/78.,HEENT:  Her throat was mildly erythematous without exudate.  Nasal mucosa was erythematous and swollen.  Only clear drainage was seen.  TMs were clear.,Neck:  Supple without adenopathy.,Lungs:  Clear.,ASSESSMENT:,  Allergic rhinitis.,PLAN:,1.  She will try Zyrtec instead of Allegra again.  Another option will be to use loratadine.  She does not think she has prescription coverage so that might be cheaper.,2.  Samples of Nasonex two sprays in each nostril given for three weeks.  A prescription was written as well.'"
      ]
     },
     "execution_count": 59,
     "metadata": {},
     "output_type": "execute_result"
    }
   ],
   "source": [
    "transcription=df['transcription'][0]\n",
    "transcription"
   ]
  },
  {
   "cell_type": "code",
   "execution_count": 52,
   "id": "39d5f6a2-022b-4ab0-9e62-f874a4c1d97a",
   "metadata": {},
   "outputs": [],
   "source": [
    "def extract_info_with_openai(transcription):\n",
    "    # prompt message\n",
    "    messages=messages = [\n",
    "            {\n",
    "                \"role\": \"system\",\n",
    "                \"content\": \"You are a healthcare professional extracting structured patient data. Always return all of these fields: Age, Gender, Symptoms, Diagnoses, Medications, Tests, and Recommended Treatment. If information is not found, return 'Unknown' for strings or an empty list for list-type fields.\"\n",
    "            },\n",
    "            {\n",
    "                \"role\": \"user\",\n",
    "                \"content\": f\"Extract structured data from the following transcription:\\n{transcription}\"\n",
    "            }\n",
    "        ]\n",
    "    \n",
    "    #function_definition\n",
    "    function_definition = [\n",
    "            {\n",
    "                'type': 'function',\n",
    "                'function': {\n",
    "                    'name': 'extract_medical_data',\n",
    "                    'description': 'Extracts structured medical information from a clinical transcription.',\n",
    "                    'parameters': {\n",
    "                        'type': 'object',\n",
    "                        'properties': {\n",
    "                            'Age': {'type': 'integer'},\n",
    "                            'Gender': {'type': 'string'},\n",
    "                            'Symptoms': {'type': 'array', 'items': {'type': 'string'}},\n",
    "                            'Diagnoses': {'type': 'array', 'items': {'type': 'string'}},\n",
    "                            'Medications': {'type': 'array', 'items': {'type': 'string'}},\n",
    "                            'Tests': {'type': 'array', 'items': {'type': 'string'}},\n",
    "                            'Recommended Treatment/Procedure': {'type': 'string'}\n",
    "                        },\n",
    "                    }\n",
    "                }\n",
    "            }\n",
    "        ]\n",
    "    \n",
    "    response=client.chat.completions.create(\n",
    "        model=model,\n",
    "        messages=messages,\n",
    "        tools=function_definition\n",
    "    )\n",
    "    \n",
    "    extracted_data=json.loads(response.choices[0].message.tool_calls[0].function.arguments)\n",
    "    return extracted_data"
   ]
  },
  {
   "cell_type": "markdown",
   "id": "b5865709-03c0-4fa3-9de9-afbf1fd83ce8",
   "metadata": {},
   "source": [
    "## Extract Data From Dataframe"
   ]
  },
  {
   "cell_type": "code",
   "execution_count": 53,
   "id": "bc772f69-54a6-48e0-ace0-fe722ec4e3b4",
   "metadata": {},
   "outputs": [],
   "source": [
    "processed_data=[]\n",
    "\n",
    "for index, row in df.iterrows():\n",
    "    medical_specialty=row['medical_specialty']\n",
    "    extracted_data=extract_info_with_openai(row['transcription'])\n",
    "    extracted_data[\"Medical Specialty\"] = medical_specialty\n",
    "\n",
    "    processed_data.append(extracted_data)\n"
   ]
  },
  {
   "cell_type": "code",
   "execution_count": 54,
   "id": "80ededf0-b2b5-4471-a548-115b51d1a7bc",
   "metadata": {},
   "outputs": [],
   "source": [
    "# convert list to a dataframe\n",
    "df_structured=pd.DataFrame(processed_data)"
   ]
  },
  {
   "cell_type": "code",
   "execution_count": 55,
   "id": "d2cc0927-fe22-4188-a4c7-6e9599e35975",
   "metadata": {},
   "outputs": [
    {
     "data": {
      "text/html": [
       "<div>\n",
       "<style scoped>\n",
       "    .dataframe tbody tr th:only-of-type {\n",
       "        vertical-align: middle;\n",
       "    }\n",
       "\n",
       "    .dataframe tbody tr th {\n",
       "        vertical-align: top;\n",
       "    }\n",
       "\n",
       "    .dataframe thead th {\n",
       "        text-align: right;\n",
       "    }\n",
       "</style>\n",
       "<table border=\"1\" class=\"dataframe\">\n",
       "  <thead>\n",
       "    <tr style=\"text-align: right;\">\n",
       "      <th></th>\n",
       "      <th>Age</th>\n",
       "      <th>Gender</th>\n",
       "      <th>Symptoms</th>\n",
       "      <th>Diagnoses</th>\n",
       "      <th>Medications</th>\n",
       "      <th>Tests</th>\n",
       "      <th>Recommended Treatment/Procedure</th>\n",
       "      <th>Medical Specialty</th>\n",
       "    </tr>\n",
       "  </thead>\n",
       "  <tbody>\n",
       "    <tr>\n",
       "      <th>0</th>\n",
       "      <td>23</td>\n",
       "      <td>Female</td>\n",
       "      <td>[allergies, nasal mucosa erythematous and swol...</td>\n",
       "      <td>[Allergic rhinitis]</td>\n",
       "      <td>[Ortho Tri-Cyclen, Allegra]</td>\n",
       "      <td>[]</td>\n",
       "      <td>Try Zyrtec instead of Allegra. Use loratadine ...</td>\n",
       "      <td>Allergy / Immunology</td>\n",
       "    </tr>\n",
       "    <tr>\n",
       "      <th>1</th>\n",
       "      <td>None</td>\n",
       "      <td>Unknown</td>\n",
       "      <td>[difficulty climbing stairs, difficulty with a...</td>\n",
       "      <td>[gastroesophageal reflux disease]</td>\n",
       "      <td>[None]</td>\n",
       "      <td>[]</td>\n",
       "      <td>Unknown</td>\n",
       "      <td>Bariatrics</td>\n",
       "    </tr>\n",
       "    <tr>\n",
       "      <th>2</th>\n",
       "      <td>42</td>\n",
       "      <td>Unknown</td>\n",
       "      <td>[Sluggishness, Gets tired quickly, Difficulty ...</td>\n",
       "      <td>[Obesity, High cholesterol, High blood pressur...</td>\n",
       "      <td>[Diovan, Crestor, Tricor, Chantix]</td>\n",
       "      <td>[Upper endoscopy, H. pylori testing, Thyroid f...</td>\n",
       "      <td>Laparoscopic Roux-en-Y gastric bypass</td>\n",
       "      <td>Bariatrics</td>\n",
       "    </tr>\n",
       "    <tr>\n",
       "      <th>3</th>\n",
       "      <td>None</td>\n",
       "      <td>Unknown</td>\n",
       "      <td>[]</td>\n",
       "      <td>[Left atrial enlargement, Mild mitral regurgit...</td>\n",
       "      <td>[]</td>\n",
       "      <td>[2-D M-MODE, DOPPLER]</td>\n",
       "      <td>Unknown</td>\n",
       "      <td>Cardiovascular / Pulmonary</td>\n",
       "    </tr>\n",
       "    <tr>\n",
       "      <th>4</th>\n",
       "      <td>None</td>\n",
       "      <td>Unknown</td>\n",
       "      <td>[mild aortic valve stenosis, mitral regurgitat...</td>\n",
       "      <td>[hyperdynamic left ventricular systolic functi...</td>\n",
       "      <td>[]</td>\n",
       "      <td>[echocardiogram]</td>\n",
       "      <td>monitoring and possibly further evaluation</td>\n",
       "      <td>Cardiovascular / Pulmonary</td>\n",
       "    </tr>\n",
       "    <tr>\n",
       "      <th>5</th>\n",
       "      <td>30</td>\n",
       "      <td>Female</td>\n",
       "      <td>[]</td>\n",
       "      <td>[Morbid obesity]</td>\n",
       "      <td>[]</td>\n",
       "      <td>[]</td>\n",
       "      <td>Laparoscopic antecolic antegastric Roux-en-Y g...</td>\n",
       "      <td>Bariatrics</td>\n",
       "    </tr>\n",
       "    <tr>\n",
       "      <th>6</th>\n",
       "      <td>31</td>\n",
       "      <td>Female</td>\n",
       "      <td>[]</td>\n",
       "      <td>[Deformity, right breast reconstruction, Exces...</td>\n",
       "      <td>[]</td>\n",
       "      <td>[]</td>\n",
       "      <td>Revision of right breast reconstruction, excis...</td>\n",
       "      <td>Bariatrics</td>\n",
       "    </tr>\n",
       "    <tr>\n",
       "      <th>7</th>\n",
       "      <td>None</td>\n",
       "      <td>Unknown</td>\n",
       "      <td>[]</td>\n",
       "      <td>[]</td>\n",
       "      <td>[]</td>\n",
       "      <td>[2-D Echocardiogram]</td>\n",
       "      <td>Unknown</td>\n",
       "      <td>Cardiovascular / Pulmonary</td>\n",
       "    </tr>\n",
       "    <tr>\n",
       "      <th>8</th>\n",
       "      <td>Unknown</td>\n",
       "      <td>Unknown</td>\n",
       "      <td>[]</td>\n",
       "      <td>[Lipodystrophy of the abdomen and thighs]</td>\n",
       "      <td>[Lactated Ringers]</td>\n",
       "      <td>[]</td>\n",
       "      <td>Suction-assisted lipectomy</td>\n",
       "      <td>Bariatrics</td>\n",
       "    </tr>\n",
       "  </tbody>\n",
       "</table>\n",
       "</div>"
      ],
      "text/plain": [
       "       Age   Gender                                           Symptoms  \\\n",
       "0       23   Female  [allergies, nasal mucosa erythematous and swol...   \n",
       "1     None  Unknown  [difficulty climbing stairs, difficulty with a...   \n",
       "2       42  Unknown  [Sluggishness, Gets tired quickly, Difficulty ...   \n",
       "3     None  Unknown                                                 []   \n",
       "4     None  Unknown  [mild aortic valve stenosis, mitral regurgitat...   \n",
       "5       30   Female                                                 []   \n",
       "6       31   Female                                                 []   \n",
       "7     None  Unknown                                                 []   \n",
       "8  Unknown  Unknown                                                 []   \n",
       "\n",
       "                                           Diagnoses  \\\n",
       "0                                [Allergic rhinitis]   \n",
       "1                  [gastroesophageal reflux disease]   \n",
       "2  [Obesity, High cholesterol, High blood pressur...   \n",
       "3  [Left atrial enlargement, Mild mitral regurgit...   \n",
       "4  [hyperdynamic left ventricular systolic functi...   \n",
       "5                                   [Morbid obesity]   \n",
       "6  [Deformity, right breast reconstruction, Exces...   \n",
       "7                                                 []   \n",
       "8          [Lipodystrophy of the abdomen and thighs]   \n",
       "\n",
       "                          Medications  \\\n",
       "0         [Ortho Tri-Cyclen, Allegra]   \n",
       "1                              [None]   \n",
       "2  [Diovan, Crestor, Tricor, Chantix]   \n",
       "3                                  []   \n",
       "4                                  []   \n",
       "5                                  []   \n",
       "6                                  []   \n",
       "7                                  []   \n",
       "8                  [Lactated Ringers]   \n",
       "\n",
       "                                               Tests  \\\n",
       "0                                                 []   \n",
       "1                                                 []   \n",
       "2  [Upper endoscopy, H. pylori testing, Thyroid f...   \n",
       "3                              [2-D M-MODE, DOPPLER]   \n",
       "4                                   [echocardiogram]   \n",
       "5                                                 []   \n",
       "6                                                 []   \n",
       "7                               [2-D Echocardiogram]   \n",
       "8                                                 []   \n",
       "\n",
       "                     Recommended Treatment/Procedure  \\\n",
       "0  Try Zyrtec instead of Allegra. Use loratadine ...   \n",
       "1                                            Unknown   \n",
       "2              Laparoscopic Roux-en-Y gastric bypass   \n",
       "3                                            Unknown   \n",
       "4         monitoring and possibly further evaluation   \n",
       "5  Laparoscopic antecolic antegastric Roux-en-Y g...   \n",
       "6  Revision of right breast reconstruction, excis...   \n",
       "7                                            Unknown   \n",
       "8                         Suction-assisted lipectomy   \n",
       "\n",
       "             Medical Specialty  \n",
       "0         Allergy / Immunology  \n",
       "1                   Bariatrics  \n",
       "2                   Bariatrics  \n",
       "3   Cardiovascular / Pulmonary  \n",
       "4   Cardiovascular / Pulmonary  \n",
       "5                   Bariatrics  \n",
       "6                   Bariatrics  \n",
       "7   Cardiovascular / Pulmonary  \n",
       "8                   Bariatrics  "
      ]
     },
     "execution_count": 55,
     "metadata": {},
     "output_type": "execute_result"
    }
   ],
   "source": [
    "df_structured"
   ]
  }
 ],
 "metadata": {
  "kernelspec": {
   "display_name": "Python 3 (ipykernel)",
   "language": "python",
   "name": "python3"
  },
  "language_info": {
   "codemirror_mode": {
    "name": "ipython",
    "version": 3
   },
   "file_extension": ".py",
   "mimetype": "text/x-python",
   "name": "python",
   "nbconvert_exporter": "python",
   "pygments_lexer": "ipython3",
   "version": "3.12.7"
  }
 },
 "nbformat": 4,
 "nbformat_minor": 5
}
